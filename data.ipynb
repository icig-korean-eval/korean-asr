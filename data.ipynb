{
 "cells": [
  {
   "cell_type": "code",
   "execution_count": 1,
   "metadata": {},
   "outputs": [],
   "source": [
    "import glob"
   ]
  },
  {
   "cell_type": "code",
   "execution_count": 2,
   "metadata": {},
   "outputs": [],
   "source": [
    "import pandas as pd"
   ]
  },
  {
   "cell_type": "code",
   "execution_count": 3,
   "metadata": {},
   "outputs": [],
   "source": [
    "merged_df = pd.read_pickle('./data/train/labeling/marged.pikl')"
   ]
  },
  {
   "cell_type": "code",
   "execution_count": 4,
   "metadata": {},
   "outputs": [
    {
     "data": {
      "text/html": [
       "<div>\n",
       "<style scoped>\n",
       "    .dataframe tbody tr th:only-of-type {\n",
       "        vertical-align: middle;\n",
       "    }\n",
       "\n",
       "    .dataframe tbody tr th {\n",
       "        vertical-align: top;\n",
       "    }\n",
       "\n",
       "    .dataframe thead th {\n",
       "        text-align: right;\n",
       "    }\n",
       "</style>\n",
       "<table border=\"1\" class=\"dataframe\">\n",
       "  <thead>\n",
       "    <tr style=\"text-align: right;\">\n",
       "      <th></th>\n",
       "      <th>fileName</th>\n",
       "      <th>speakerID</th>\n",
       "      <th>sentenceID</th>\n",
       "      <th>recordUnit</th>\n",
       "      <th>recordQuality</th>\n",
       "      <th>recordDate</th>\n",
       "      <th>recordTime</th>\n",
       "      <th>Reading</th>\n",
       "      <th>ReadingLabelText</th>\n",
       "      <th>Question</th>\n",
       "      <th>...</th>\n",
       "      <th>eduBackground</th>\n",
       "      <th>country</th>\n",
       "      <th>residencePeriod</th>\n",
       "      <th>residenceCity</th>\n",
       "      <th>languageClass</th>\n",
       "      <th>motherTongue</th>\n",
       "      <th>selfAssessment</th>\n",
       "      <th>topikGrade</th>\n",
       "      <th>LearningPeriod</th>\n",
       "      <th>learningSource</th>\n",
       "    </tr>\n",
       "  </thead>\n",
       "  <tbody>\n",
       "    <tr>\n",
       "      <th>0</th>\n",
       "      <td>CN40QB226_CN0001_20210824.wav</td>\n",
       "      <td>CN0001</td>\n",
       "      <td>CN40QB226</td>\n",
       "      <td>ios</td>\n",
       "      <td>16bit 16kHz MONO</td>\n",
       "      <td>2021-08-24 16:27:47</td>\n",
       "      <td>14.94</td>\n",
       "      <td>NaN</td>\n",
       "      <td>NaN</td>\n",
       "      <td>쉬는 날, 집에 있게 되면 보통 무엇을 하면서 시간을 보냅니까? 왜 그렇습니까?</td>\n",
       "      <td>...</td>\n",
       "      <td>고졸</td>\n",
       "      <td>CN</td>\n",
       "      <td>1년 이상 3년 미만</td>\n",
       "      <td>KR-11</td>\n",
       "      <td>중국어</td>\n",
       "      <td>중국어</td>\n",
       "      <td>상</td>\n",
       "      <td>5</td>\n",
       "      <td>48</td>\n",
       "      <td>학원</td>\n",
       "    </tr>\n",
       "    <tr>\n",
       "      <th>1</th>\n",
       "      <td>CN40QB226_CN0010_20210829.wav</td>\n",
       "      <td>CN0010</td>\n",
       "      <td>CN40QB226</td>\n",
       "      <td>ios</td>\n",
       "      <td>16bit 16kHz MONO</td>\n",
       "      <td>2021-08-29 09:31:08</td>\n",
       "      <td>9.74</td>\n",
       "      <td>NaN</td>\n",
       "      <td>NaN</td>\n",
       "      <td>쉬는 날, 집에 있게 되면 보통 무엇을 하면서 시간을 보냅니까? 왜 그렇습니까?</td>\n",
       "      <td>...</td>\n",
       "      <td>고졸</td>\n",
       "      <td>MY</td>\n",
       "      <td>5년 이상</td>\n",
       "      <td>KR-11</td>\n",
       "      <td>중국어</td>\n",
       "      <td>중국어</td>\n",
       "      <td>상</td>\n",
       "      <td>해당 없음</td>\n",
       "      <td>18</td>\n",
       "      <td>학원</td>\n",
       "    </tr>\n",
       "    <tr>\n",
       "      <th>2</th>\n",
       "      <td>CN40QB226_CN0015_20210823.wav</td>\n",
       "      <td>CN0015</td>\n",
       "      <td>CN40QB226</td>\n",
       "      <td>ios</td>\n",
       "      <td>16bit 16kHz MONO</td>\n",
       "      <td>2021-08-23 16:05:02</td>\n",
       "      <td>15.18</td>\n",
       "      <td>NaN</td>\n",
       "      <td>NaN</td>\n",
       "      <td>쉬는 날, 집에 있게 되면 보통 무엇을 하면서 시간을 보냅니까? 왜 그렇습니까?</td>\n",
       "      <td>...</td>\n",
       "      <td>대졸</td>\n",
       "      <td>CN</td>\n",
       "      <td>3년 이상 5년 미만</td>\n",
       "      <td>KR-41</td>\n",
       "      <td>중국어</td>\n",
       "      <td>중국어</td>\n",
       "      <td>상</td>\n",
       "      <td>6</td>\n",
       "      <td>72</td>\n",
       "      <td>학교 수업 (대학 포함)</td>\n",
       "    </tr>\n",
       "    <tr>\n",
       "      <th>3</th>\n",
       "      <td>CN40QB226_CN0015_20210912.wav</td>\n",
       "      <td>CN0015</td>\n",
       "      <td>CN40QB226</td>\n",
       "      <td>ios</td>\n",
       "      <td>16bit 16kHz MONO</td>\n",
       "      <td>2021-09-12 14:08:33</td>\n",
       "      <td>17.34</td>\n",
       "      <td>NaN</td>\n",
       "      <td>NaN</td>\n",
       "      <td>쉬는 날, 집에 있게 되면 보통 무엇을 하면서 시간을 보냅니까? 왜 그렇습니까?</td>\n",
       "      <td>...</td>\n",
       "      <td>대졸</td>\n",
       "      <td>CN</td>\n",
       "      <td>3년 이상 5년 미만</td>\n",
       "      <td>KR-41</td>\n",
       "      <td>중국어</td>\n",
       "      <td>중국어</td>\n",
       "      <td>상</td>\n",
       "      <td>6</td>\n",
       "      <td>72</td>\n",
       "      <td>학교 수업 (대학 포함)</td>\n",
       "    </tr>\n",
       "    <tr>\n",
       "      <th>4</th>\n",
       "      <td>CN40QB226_CN0019_20210805.wav</td>\n",
       "      <td>CN0019</td>\n",
       "      <td>CN40QB226</td>\n",
       "      <td>ios</td>\n",
       "      <td>16bit 16kHz MONO</td>\n",
       "      <td>2021-08-05 19:30:03</td>\n",
       "      <td>12.60</td>\n",
       "      <td>NaN</td>\n",
       "      <td>NaN</td>\n",
       "      <td>쉬는 날, 집에 있게 되면 보통 무엇을 하면서 시간을 보냅니까? 왜 그렇습니까?</td>\n",
       "      <td>...</td>\n",
       "      <td>석사이상</td>\n",
       "      <td>CN</td>\n",
       "      <td>5년 이상</td>\n",
       "      <td>KR-11</td>\n",
       "      <td>중국어</td>\n",
       "      <td>중국어</td>\n",
       "      <td>상</td>\n",
       "      <td>6</td>\n",
       "      <td>30</td>\n",
       "      <td>학교 수업 (대학 포함)</td>\n",
       "    </tr>\n",
       "  </tbody>\n",
       "</table>\n",
       "<p>5 rows × 25 columns</p>\n",
       "</div>"
      ],
      "text/plain": [
       "                        fileName speakerID sentenceID recordUnit  \\\n",
       "0  CN40QB226_CN0001_20210824.wav    CN0001  CN40QB226        ios   \n",
       "1  CN40QB226_CN0010_20210829.wav    CN0010  CN40QB226        ios   \n",
       "2  CN40QB226_CN0015_20210823.wav    CN0015  CN40QB226        ios   \n",
       "3  CN40QB226_CN0015_20210912.wav    CN0015  CN40QB226        ios   \n",
       "4  CN40QB226_CN0019_20210805.wav    CN0019  CN40QB226        ios   \n",
       "\n",
       "      recordQuality           recordDate  recordTime Reading ReadingLabelText  \\\n",
       "0  16bit 16kHz MONO  2021-08-24 16:27:47       14.94     NaN              NaN   \n",
       "1  16bit 16kHz MONO  2021-08-29 09:31:08        9.74     NaN              NaN   \n",
       "2  16bit 16kHz MONO  2021-08-23 16:05:02       15.18     NaN              NaN   \n",
       "3  16bit 16kHz MONO  2021-09-12 14:08:33       17.34     NaN              NaN   \n",
       "4  16bit 16kHz MONO  2021-08-05 19:30:03       12.60     NaN              NaN   \n",
       "\n",
       "                                       Question  ... eduBackground country  \\\n",
       "0  쉬는 날, 집에 있게 되면 보통 무엇을 하면서 시간을 보냅니까? 왜 그렇습니까?  ...            고졸      CN   \n",
       "1  쉬는 날, 집에 있게 되면 보통 무엇을 하면서 시간을 보냅니까? 왜 그렇습니까?  ...            고졸      MY   \n",
       "2  쉬는 날, 집에 있게 되면 보통 무엇을 하면서 시간을 보냅니까? 왜 그렇습니까?  ...            대졸      CN   \n",
       "3  쉬는 날, 집에 있게 되면 보통 무엇을 하면서 시간을 보냅니까? 왜 그렇습니까?  ...            대졸      CN   \n",
       "4  쉬는 날, 집에 있게 되면 보통 무엇을 하면서 시간을 보냅니까? 왜 그렇습니까?  ...          석사이상      CN   \n",
       "\n",
       "  residencePeriod residenceCity  languageClass motherTongue selfAssessment  \\\n",
       "0     1년 이상 3년 미만         KR-11            중국어          중국어              상   \n",
       "1           5년 이상         KR-11            중국어          중국어              상   \n",
       "2     3년 이상 5년 미만         KR-41            중국어          중국어              상   \n",
       "3     3년 이상 5년 미만         KR-41            중국어          중국어              상   \n",
       "4           5년 이상         KR-11            중국어          중국어              상   \n",
       "\n",
       "  topikGrade LearningPeriod learningSource  \n",
       "0          5             48             학원  \n",
       "1      해당 없음             18             학원  \n",
       "2          6             72  학교 수업 (대학 포함)  \n",
       "3          6             72  학교 수업 (대학 포함)  \n",
       "4          6             30  학교 수업 (대학 포함)  \n",
       "\n",
       "[5 rows x 25 columns]"
      ]
     },
     "execution_count": 4,
     "metadata": {},
     "output_type": "execute_result"
    }
   ],
   "source": [
    "merged_df.head()"
   ]
  },
  {
   "cell_type": "code",
   "execution_count": 5,
   "metadata": {},
   "outputs": [
    {
     "name": "stdout",
     "output_type": "stream",
     "text": [
      "<class 'pandas.core.frame.DataFrame'>\n",
      "RangeIndex: 587320 entries, 0 to 587319\n",
      "Data columns (total 25 columns):\n",
      " #   Column            Non-Null Count   Dtype  \n",
      "---  ------            --------------   -----  \n",
      " 0   fileName          587320 non-null  object \n",
      " 1   speakerID         587320 non-null  object \n",
      " 2   sentenceID        587320 non-null  object \n",
      " 3   recordUnit        587320 non-null  object \n",
      " 4   recordQuality     587320 non-null  object \n",
      " 5   recordDate        587320 non-null  object \n",
      " 6   recordTime        587320 non-null  float64\n",
      " 7   Reading           454483 non-null  object \n",
      " 8   ReadingLabelText  454483 non-null  object \n",
      " 9   Question          132837 non-null  object \n",
      " 10  AnswerLabelText   132837 non-null  object \n",
      " 11  SentenceSpeechLV  587320 non-null  object \n",
      " 12  SpeakerID         587320 non-null  object \n",
      " 13  gender            587320 non-null  object \n",
      " 14  birthYear         587320 non-null  int64  \n",
      " 15  eduBackground     587320 non-null  object \n",
      " 16  country           587320 non-null  object \n",
      " 17  residencePeriod   587320 non-null  object \n",
      " 18  residenceCity     587320 non-null  object \n",
      " 19  languageClass     587320 non-null  object \n",
      " 20  motherTongue      587320 non-null  object \n",
      " 21  selfAssessment    587320 non-null  object \n",
      " 22  topikGrade        587320 non-null  object \n",
      " 23  LearningPeriod    587320 non-null  int64  \n",
      " 24  learningSource    587320 non-null  object \n",
      "dtypes: float64(1), int64(2), object(22)\n",
      "memory usage: 112.0+ MB\n"
     ]
    }
   ],
   "source": [
    "merged_df.info()"
   ]
  },
  {
   "cell_type": "code",
   "execution_count": 6,
   "metadata": {},
   "outputs": [
    {
     "data": {
      "text/plain": [
       "country\n",
       "CN    193623\n",
       "JP    162749\n",
       "KR    100975\n",
       "VN     76806\n",
       "US     18976\n",
       "TW     14777\n",
       "MY      9146\n",
       "GB      2431\n",
       "CA      1937\n",
       "SG      1510\n",
       "HK      1201\n",
       "FR      1068\n",
       "SE       706\n",
       "AU       523\n",
       "DE       296\n",
       "PH       215\n",
       "ET       163\n",
       "PL        75\n",
       "NG        58\n",
       "ID        42\n",
       "CH        35\n",
       "LV         8\n",
       "Name: count, dtype: int64"
      ]
     },
     "execution_count": 6,
     "metadata": {},
     "output_type": "execute_result"
    }
   ],
   "source": [
    "merged_df['country'].value_counts()"
   ]
  },
  {
   "cell_type": "code",
   "execution_count": 7,
   "metadata": {},
   "outputs": [
    {
     "data": {
      "text/plain": [
       "fileName                                CN40QB226_CN0260_20210826.wav\n",
       "speakerID                                                      CN0260\n",
       "sentenceID                                                  CN40QB226\n",
       "recordUnit                                                        ios\n",
       "recordQuality                                        16bit 16kHz MONO\n",
       "recordDate                                        2021-08-26 23:36:51\n",
       "recordTime                                                     16.924\n",
       "Reading                                                           NaN\n",
       "ReadingLabelText                                                  NaN\n",
       "Question                 쉬는 날, 집에 있게 되면 보통 무엇을 하면서 시간을 보냅니까? 왜 그렇습니까?\n",
       "AnswerLabelText     쉬는 날 집에 있게 되면 뭐/ 티브이도 보고 유튜브도 보고 하면서 시간을 보냅니다 ...\n",
       "SentenceSpeechLV                                                    중\n",
       "SpeakerID                                                      CN0260\n",
       "gender                                                              F\n",
       "birthYear                                                        1967\n",
       "eduBackground                                                    석사이상\n",
       "country                                                            KR\n",
       "residencePeriod                                                 5년 이상\n",
       "residenceCity                                                   KR-41\n",
       "languageClass                                                     중국어\n",
       "motherTongue                                                      중국어\n",
       "selfAssessment                                                      상\n",
       "topikGrade                                                      해당 없음\n",
       "LearningPeriod                                                    240\n",
       "learningSource                                                 인터넷 강의\n",
       "Name: 81, dtype: object"
      ]
     },
     "execution_count": 7,
     "metadata": {},
     "output_type": "execute_result"
    }
   ],
   "source": [
    "merged_df[merged_df['country'] == 'KR'].iloc[0,:]"
   ]
  },
  {
   "cell_type": "code",
   "execution_count": 8,
   "metadata": {},
   "outputs": [
    {
     "data": {
      "text/plain": [
       "['./data/train/source/china/culture1/CN40QB226_CN0260_20210826.wav']"
      ]
     },
     "execution_count": 8,
     "metadata": {},
     "output_type": "execute_result"
    }
   ],
   "source": [
    "glob.glob('./data/train/source/*/*/CN40QB226_CN0260_20210826.wav')"
   ]
  },
  {
   "cell_type": "code",
   "execution_count": 9,
   "metadata": {},
   "outputs": [
    {
     "data": {
      "text/plain": [
       "languageClass\n",
       "중국어     233756\n",
       "일본어     173280\n",
       "베트남어    155132\n",
       "영어       25152\n",
       "Name: count, dtype: int64"
      ]
     },
     "execution_count": 9,
     "metadata": {},
     "output_type": "execute_result"
    }
   ],
   "source": [
    "merged_df['languageClass'].value_counts()"
   ]
  },
  {
   "cell_type": "code",
   "execution_count": 10,
   "metadata": {},
   "outputs": [
    {
     "name": "stdout",
     "output_type": "stream",
     "text": [
      "min: 1.437 max: 290.7 mean: 13.290898213920864\n"
     ]
    }
   ],
   "source": [
    "print(f\"min: {merged_df['recordTime'].min()} max: {merged_df['recordTime'].max()} mean: {merged_df['recordTime'].mean()}\")"
   ]
  },
  {
   "cell_type": "code",
   "execution_count": 11,
   "metadata": {},
   "outputs": [
    {
     "data": {
      "text/plain": [
       "0         14.940\n",
       "1          9.740\n",
       "2         15.180\n",
       "3         17.340\n",
       "4         12.600\n",
       "           ...  \n",
       "587315    12.375\n",
       "587316    10.736\n",
       "587317    15.384\n",
       "587318    15.060\n",
       "587319    20.460\n",
       "Name: recordTime, Length: 587320, dtype: float64"
      ]
     },
     "execution_count": 11,
     "metadata": {},
     "output_type": "execute_result"
    }
   ],
   "source": [
    "merged_df['recordTime']"
   ]
  },
  {
   "cell_type": "code",
   "execution_count": 12,
   "metadata": {},
   "outputs": [],
   "source": [
    "min_sec = 8\n",
    "max_sec = 15\n",
    "filtered_data = merged_df[(merged_df['recordTime'] >= min_sec) & (merged_df['recordTime'] <= max_sec)]"
   ]
  },
  {
   "cell_type": "code",
   "execution_count": 13,
   "metadata": {},
   "outputs": [
    {
     "data": {
      "text/plain": [
       "587320"
      ]
     },
     "execution_count": 13,
     "metadata": {},
     "output_type": "execute_result"
    }
   ],
   "source": [
    "len(merged_df)"
   ]
  },
  {
   "cell_type": "code",
   "execution_count": 14,
   "metadata": {},
   "outputs": [
    {
     "data": {
      "text/plain": [
       "442461"
      ]
     },
     "execution_count": 14,
     "metadata": {},
     "output_type": "execute_result"
    }
   ],
   "source": [
    "len(filtered_data)"
   ]
  },
  {
   "cell_type": "code",
   "execution_count": 15,
   "metadata": {},
   "outputs": [
    {
     "data": {
      "text/plain": [
       "languageClass\n",
       "중국어     178499\n",
       "일본어     139074\n",
       "베트남어    108055\n",
       "영어       16833\n",
       "Name: count, dtype: int64"
      ]
     },
     "execution_count": 15,
     "metadata": {},
     "output_type": "execute_result"
    }
   ],
   "source": [
    "filtered_data['languageClass'].value_counts()"
   ]
  },
  {
   "cell_type": "code",
   "execution_count": 16,
   "metadata": {},
   "outputs": [],
   "source": [
    "from datasets import Dataset, DatasetDict\n",
    "from datasets import Audio"
   ]
  },
  {
   "cell_type": "code",
   "execution_count": 17,
   "metadata": {},
   "outputs": [
    {
     "data": {
      "text/plain": [
       "fileName                                CN40QB226_CN0001_20210824.wav\n",
       "speakerID                                                      CN0001\n",
       "sentenceID                                                  CN40QB226\n",
       "recordUnit                                                        ios\n",
       "recordQuality                                        16bit 16kHz MONO\n",
       "recordDate                                        2021-08-24 16:27:47\n",
       "recordTime                                                      14.94\n",
       "Reading                                                           NaN\n",
       "ReadingLabelText                                                  NaN\n",
       "Question                 쉬는 날, 집에 있게 되면 보통 무엇을 하면서 시간을 보냅니까? 왜 그렇습니까?\n",
       "AnswerLabelText     저는 쉬는 날은 보통 집에서 쉬어요 일하는 날은 너무 피곤해서 쉬는 시간이 부족해서...\n",
       "SentenceSpeechLV                                                    상\n",
       "SpeakerID                                                      CN0001\n",
       "gender                                                              F\n",
       "birthYear                                                        2000\n",
       "eduBackground                                                      고졸\n",
       "country                                                            CN\n",
       "residencePeriod                                           1년 이상 3년 미만\n",
       "residenceCity                                                   KR-11\n",
       "languageClass                                                     중국어\n",
       "motherTongue                                                      중국어\n",
       "selfAssessment                                                      상\n",
       "topikGrade                                                          5\n",
       "LearningPeriod                                                     48\n",
       "learningSource                                                     학원\n",
       "Name: 0, dtype: object"
      ]
     },
     "execution_count": 17,
     "metadata": {},
     "output_type": "execute_result"
    }
   ],
   "source": [
    "filtered_data.iloc[0,:]"
   ]
  },
  {
   "cell_type": "code",
   "execution_count": 18,
   "metadata": {},
   "outputs": [],
   "source": [
    "import soundfile as sf\n",
    "from tqdm import tqdm"
   ]
  },
  {
   "cell_type": "code",
   "execution_count": 19,
   "metadata": {},
   "outputs": [
    {
     "name": "stderr",
     "output_type": "stream",
     "text": [
      "100%|██████████| 442461/442461 [03:37<00:00, 2036.91it/s]\n"
     ]
    }
   ],
   "source": [
    "list_audio = []\n",
    "list_text = []\n",
    "for i in tqdm(range(len(filtered_data))):\n",
    "    data = filtered_data.iloc[i, :]\n",
    "    \n",
    "    audio_files = glob.glob(f'./data/train/source/*/*/{data[\"fileName\"]}')\n",
    "    if not audio_files:\n",
    "        continue\n",
    "    \n",
    "    try:\n",
    "        with sf.SoundFile(audio_files[0]) as f:\n",
    "            _ = f.frames  # 파일을 제대로 열 수 있는지만 확인\n",
    "    except RuntimeError:\n",
    "        continue\n",
    "    \n",
    "    list_audio.append(audio_files[0])\n",
    "    \n",
    "    if pd.isna(data['ReadingLabelText']):\n",
    "        list_text.append(data['AnswerLabelText'])\n",
    "    else:\n",
    "        list_text.append(data['ReadingLabelText'])\n",
    "    \n",
    "dst = Dataset.from_dict({\"audio\": list_audio,\n",
    "                       \"transcripts\": list_text})"
   ]
  },
  {
   "cell_type": "code",
   "execution_count": 20,
   "metadata": {},
   "outputs": [],
   "source": [
    "ds = dst.train_test_split(test_size=0.14, seed=42)['test'].cast_column(\"audio\", Audio(sampling_rate=16000))"
   ]
  },
  {
   "cell_type": "code",
   "execution_count": 21,
   "metadata": {},
   "outputs": [
    {
     "data": {
      "text/plain": [
       "57307"
      ]
     },
     "execution_count": 21,
     "metadata": {},
     "output_type": "execute_result"
    }
   ],
   "source": [
    "len(ds)"
   ]
  },
  {
   "cell_type": "code",
   "execution_count": 22,
   "metadata": {},
   "outputs": [],
   "source": [
    "train_testvalid = ds.train_test_split(test_size=0.2)\n",
    "test_valid = train_testvalid[\"test\"].train_test_split(test_size=0.5)\n",
    "datasets = DatasetDict({\n",
    "    \"train\": train_testvalid[\"train\"],\n",
    "    \"test\": test_valid[\"test\"],\n",
    "    \"valid\": test_valid[\"train\"]})"
   ]
  },
  {
   "cell_type": "code",
   "execution_count": 23,
   "metadata": {},
   "outputs": [],
   "source": [
    "from transformers import WhisperFeatureExtractor\n",
    "# 파인튜닝을 진행하고자 하는 모델의 feature extractor를 로드\n",
    "feature_extractor = WhisperFeatureExtractor.from_pretrained(\"openai/whisper-base\")\n",
    "\n",
    "from transformers import WhisperTokenizer\n",
    "# 파인튜닝을 진행하고자 하는 모델의 tokenizer를 로드\n",
    "tokenizer = WhisperTokenizer.from_pretrained(\"openai/whisper-base\", language=\"Korean\", task=\"transcribe\")\n",
    "\n",
    "from transformers import WhisperProcessor\n",
    "processor = WhisperProcessor.from_pretrained(\"openai/whisper-base\", language=\"Korean\", task=\"transcribe\")"
   ]
  },
  {
   "cell_type": "code",
   "execution_count": null,
   "metadata": {},
   "outputs": [
    {
     "data": {
      "application/vnd.jupyter.widget-view+json": {
       "model_id": "f7e6541a3418496886d579bca4af0e4d",
       "version_major": 2,
       "version_minor": 0
      },
      "text/plain": [
       "Map (num_proc=6):   0%|          | 0/45845 [00:00<?, ? examples/s]"
      ]
     },
     "metadata": {},
     "output_type": "display_data"
    },
    {
     "ename": "RuntimeError",
     "evalue": "One of the subprocesses has abruptly died during map operation.To debug the error, disable multiprocessing.",
     "output_type": "error",
     "traceback": [
      "\u001b[0;31m---------------------------------------------------------------------------\u001b[0m",
      "\u001b[0;31mRuntimeError\u001b[0m                              Traceback (most recent call last)",
      "Cell \u001b[0;32mIn[24], line 11\u001b[0m\n\u001b[1;32m      9\u001b[0m     batch[\u001b[38;5;124m\"\u001b[39m\u001b[38;5;124mlabels\u001b[39m\u001b[38;5;124m\"\u001b[39m] \u001b[38;5;241m=\u001b[39m tokenizer(batch[\u001b[38;5;124m\"\u001b[39m\u001b[38;5;124mtranscripts\u001b[39m\u001b[38;5;124m\"\u001b[39m])\u001b[38;5;241m.\u001b[39minput_ids\n\u001b[1;32m     10\u001b[0m     \u001b[38;5;28;01mreturn\u001b[39;00m batch\n\u001b[0;32m---> 11\u001b[0m low_call_voices \u001b[38;5;241m=\u001b[39m datasets\u001b[38;5;241m.\u001b[39mmap(prepare_dataset, remove_columns\u001b[38;5;241m=\u001b[39mdatasets\u001b[38;5;241m.\u001b[39mcolumn_names[\u001b[38;5;124m\"\u001b[39m\u001b[38;5;124mtrain\u001b[39m\u001b[38;5;124m\"\u001b[39m], num_proc\u001b[38;5;241m=\u001b[39m\u001b[38;5;241m6\u001b[39m)\n",
      "File \u001b[0;32m~/anaconda3/lib/python3.12/site-packages/datasets/dataset_dict.py:887\u001b[0m, in \u001b[0;36mDatasetDict.map\u001b[0;34m(self, function, with_indices, with_rank, input_columns, batched, batch_size, drop_last_batch, remove_columns, keep_in_memory, load_from_cache_file, cache_file_names, writer_batch_size, features, disable_nullable, fn_kwargs, num_proc, desc)\u001b[0m\n\u001b[1;32m    883\u001b[0m \u001b[38;5;28;01mif\u001b[39;00m cache_file_names \u001b[38;5;129;01mis\u001b[39;00m \u001b[38;5;28;01mNone\u001b[39;00m:\n\u001b[1;32m    884\u001b[0m     cache_file_names \u001b[38;5;241m=\u001b[39m {k: \u001b[38;5;28;01mNone\u001b[39;00m \u001b[38;5;28;01mfor\u001b[39;00m k \u001b[38;5;129;01min\u001b[39;00m \u001b[38;5;28mself\u001b[39m}\n\u001b[1;32m    885\u001b[0m \u001b[38;5;28;01mreturn\u001b[39;00m DatasetDict(\n\u001b[1;32m    886\u001b[0m     {\n\u001b[0;32m--> 887\u001b[0m         k: dataset\u001b[38;5;241m.\u001b[39mmap(\n\u001b[1;32m    888\u001b[0m             function\u001b[38;5;241m=\u001b[39mfunction,\n\u001b[1;32m    889\u001b[0m             with_indices\u001b[38;5;241m=\u001b[39mwith_indices,\n\u001b[1;32m    890\u001b[0m             with_rank\u001b[38;5;241m=\u001b[39mwith_rank,\n\u001b[1;32m    891\u001b[0m             input_columns\u001b[38;5;241m=\u001b[39minput_columns,\n\u001b[1;32m    892\u001b[0m             batched\u001b[38;5;241m=\u001b[39mbatched,\n\u001b[1;32m    893\u001b[0m             batch_size\u001b[38;5;241m=\u001b[39mbatch_size,\n\u001b[1;32m    894\u001b[0m             drop_last_batch\u001b[38;5;241m=\u001b[39mdrop_last_batch,\n\u001b[1;32m    895\u001b[0m             remove_columns\u001b[38;5;241m=\u001b[39mremove_columns,\n\u001b[1;32m    896\u001b[0m             keep_in_memory\u001b[38;5;241m=\u001b[39mkeep_in_memory,\n\u001b[1;32m    897\u001b[0m             load_from_cache_file\u001b[38;5;241m=\u001b[39mload_from_cache_file,\n\u001b[1;32m    898\u001b[0m             cache_file_name\u001b[38;5;241m=\u001b[39mcache_file_names[k],\n\u001b[1;32m    899\u001b[0m             writer_batch_size\u001b[38;5;241m=\u001b[39mwriter_batch_size,\n\u001b[1;32m    900\u001b[0m             features\u001b[38;5;241m=\u001b[39mfeatures,\n\u001b[1;32m    901\u001b[0m             disable_nullable\u001b[38;5;241m=\u001b[39mdisable_nullable,\n\u001b[1;32m    902\u001b[0m             fn_kwargs\u001b[38;5;241m=\u001b[39mfn_kwargs,\n\u001b[1;32m    903\u001b[0m             num_proc\u001b[38;5;241m=\u001b[39mnum_proc,\n\u001b[1;32m    904\u001b[0m             desc\u001b[38;5;241m=\u001b[39mdesc,\n\u001b[1;32m    905\u001b[0m         )\n\u001b[1;32m    906\u001b[0m         \u001b[38;5;28;01mfor\u001b[39;00m k, dataset \u001b[38;5;129;01min\u001b[39;00m \u001b[38;5;28mself\u001b[39m\u001b[38;5;241m.\u001b[39mitems()\n\u001b[1;32m    907\u001b[0m     }\n\u001b[1;32m    908\u001b[0m )\n",
      "File \u001b[0;32m~/anaconda3/lib/python3.12/site-packages/datasets/arrow_dataset.py:560\u001b[0m, in \u001b[0;36mtransmit_format.<locals>.wrapper\u001b[0;34m(*args, **kwargs)\u001b[0m\n\u001b[1;32m    553\u001b[0m self_format \u001b[38;5;241m=\u001b[39m {\n\u001b[1;32m    554\u001b[0m     \u001b[38;5;124m\"\u001b[39m\u001b[38;5;124mtype\u001b[39m\u001b[38;5;124m\"\u001b[39m: \u001b[38;5;28mself\u001b[39m\u001b[38;5;241m.\u001b[39m_format_type,\n\u001b[1;32m    555\u001b[0m     \u001b[38;5;124m\"\u001b[39m\u001b[38;5;124mformat_kwargs\u001b[39m\u001b[38;5;124m\"\u001b[39m: \u001b[38;5;28mself\u001b[39m\u001b[38;5;241m.\u001b[39m_format_kwargs,\n\u001b[1;32m    556\u001b[0m     \u001b[38;5;124m\"\u001b[39m\u001b[38;5;124mcolumns\u001b[39m\u001b[38;5;124m\"\u001b[39m: \u001b[38;5;28mself\u001b[39m\u001b[38;5;241m.\u001b[39m_format_columns,\n\u001b[1;32m    557\u001b[0m     \u001b[38;5;124m\"\u001b[39m\u001b[38;5;124moutput_all_columns\u001b[39m\u001b[38;5;124m\"\u001b[39m: \u001b[38;5;28mself\u001b[39m\u001b[38;5;241m.\u001b[39m_output_all_columns,\n\u001b[1;32m    558\u001b[0m }\n\u001b[1;32m    559\u001b[0m \u001b[38;5;66;03m# apply actual function\u001b[39;00m\n\u001b[0;32m--> 560\u001b[0m out: Union[\u001b[38;5;124m\"\u001b[39m\u001b[38;5;124mDataset\u001b[39m\u001b[38;5;124m\"\u001b[39m, \u001b[38;5;124m\"\u001b[39m\u001b[38;5;124mDatasetDict\u001b[39m\u001b[38;5;124m\"\u001b[39m] \u001b[38;5;241m=\u001b[39m func(\u001b[38;5;28mself\u001b[39m, \u001b[38;5;241m*\u001b[39margs, \u001b[38;5;241m*\u001b[39m\u001b[38;5;241m*\u001b[39mkwargs)\n\u001b[1;32m    561\u001b[0m datasets: List[\u001b[38;5;124m\"\u001b[39m\u001b[38;5;124mDataset\u001b[39m\u001b[38;5;124m\"\u001b[39m] \u001b[38;5;241m=\u001b[39m \u001b[38;5;28mlist\u001b[39m(out\u001b[38;5;241m.\u001b[39mvalues()) \u001b[38;5;28;01mif\u001b[39;00m \u001b[38;5;28misinstance\u001b[39m(out, \u001b[38;5;28mdict\u001b[39m) \u001b[38;5;28;01melse\u001b[39;00m [out]\n\u001b[1;32m    562\u001b[0m \u001b[38;5;66;03m# re-apply format to the output\u001b[39;00m\n",
      "File \u001b[0;32m~/anaconda3/lib/python3.12/site-packages/datasets/arrow_dataset.py:3165\u001b[0m, in \u001b[0;36mDataset.map\u001b[0;34m(self, function, with_indices, with_rank, input_columns, batched, batch_size, drop_last_batch, remove_columns, keep_in_memory, load_from_cache_file, cache_file_name, writer_batch_size, features, disable_nullable, fn_kwargs, num_proc, suffix_template, new_fingerprint, desc)\u001b[0m\n\u001b[1;32m   3159\u001b[0m logger\u001b[38;5;241m.\u001b[39minfo(\u001b[38;5;124mf\u001b[39m\u001b[38;5;124m\"\u001b[39m\u001b[38;5;124mSpawning \u001b[39m\u001b[38;5;132;01m{\u001b[39;00mnum_proc\u001b[38;5;132;01m}\u001b[39;00m\u001b[38;5;124m processes\u001b[39m\u001b[38;5;124m\"\u001b[39m)\n\u001b[1;32m   3160\u001b[0m \u001b[38;5;28;01mwith\u001b[39;00m hf_tqdm(\n\u001b[1;32m   3161\u001b[0m     unit\u001b[38;5;241m=\u001b[39m\u001b[38;5;124m\"\u001b[39m\u001b[38;5;124m examples\u001b[39m\u001b[38;5;124m\"\u001b[39m,\n\u001b[1;32m   3162\u001b[0m     total\u001b[38;5;241m=\u001b[39mpbar_total,\n\u001b[1;32m   3163\u001b[0m     desc\u001b[38;5;241m=\u001b[39m(desc \u001b[38;5;129;01mor\u001b[39;00m \u001b[38;5;124m\"\u001b[39m\u001b[38;5;124mMap\u001b[39m\u001b[38;5;124m\"\u001b[39m) \u001b[38;5;241m+\u001b[39m \u001b[38;5;124mf\u001b[39m\u001b[38;5;124m\"\u001b[39m\u001b[38;5;124m (num_proc=\u001b[39m\u001b[38;5;132;01m{\u001b[39;00mnum_proc\u001b[38;5;132;01m}\u001b[39;00m\u001b[38;5;124m)\u001b[39m\u001b[38;5;124m\"\u001b[39m,\n\u001b[1;32m   3164\u001b[0m ) \u001b[38;5;28;01mas\u001b[39;00m pbar:\n\u001b[0;32m-> 3165\u001b[0m     \u001b[38;5;28;01mfor\u001b[39;00m rank, done, content \u001b[38;5;129;01min\u001b[39;00m iflatmap_unordered(\n\u001b[1;32m   3166\u001b[0m         pool, Dataset\u001b[38;5;241m.\u001b[39m_map_single, kwargs_iterable\u001b[38;5;241m=\u001b[39mkwargs_per_job\n\u001b[1;32m   3167\u001b[0m     ):\n\u001b[1;32m   3168\u001b[0m         \u001b[38;5;28;01mif\u001b[39;00m done:\n\u001b[1;32m   3169\u001b[0m             shards_done \u001b[38;5;241m+\u001b[39m\u001b[38;5;241m=\u001b[39m \u001b[38;5;241m1\u001b[39m\n",
      "File \u001b[0;32m~/anaconda3/lib/python3.12/site-packages/datasets/utils/py_utils.py:711\u001b[0m, in \u001b[0;36miflatmap_unordered\u001b[0;34m(pool, func, kwargs_iterable)\u001b[0m\n\u001b[1;32m    709\u001b[0m             pool_changed \u001b[38;5;241m=\u001b[39m \u001b[38;5;28;01mTrue\u001b[39;00m\n\u001b[1;32m    710\u001b[0m             \u001b[38;5;66;03m# One of the subprocesses has died. We should not wait forever.\u001b[39;00m\n\u001b[0;32m--> 711\u001b[0m             \u001b[38;5;28;01mraise\u001b[39;00m \u001b[38;5;167;01mRuntimeError\u001b[39;00m(\n\u001b[1;32m    712\u001b[0m                 \u001b[38;5;124m\"\u001b[39m\u001b[38;5;124mOne of the subprocesses has abruptly died during map operation.\u001b[39m\u001b[38;5;124m\"\u001b[39m\n\u001b[1;32m    713\u001b[0m                 \u001b[38;5;124m\"\u001b[39m\u001b[38;5;124mTo debug the error, disable multiprocessing.\u001b[39m\u001b[38;5;124m\"\u001b[39m\n\u001b[1;32m    714\u001b[0m             )\n\u001b[1;32m    715\u001b[0m \u001b[38;5;28;01mfinally\u001b[39;00m:\n\u001b[1;32m    716\u001b[0m     \u001b[38;5;28;01mif\u001b[39;00m \u001b[38;5;129;01mnot\u001b[39;00m pool_changed:\n\u001b[1;32m    717\u001b[0m         \u001b[38;5;66;03m# we get the result in case there's an error to raise\u001b[39;00m\n",
      "\u001b[0;31mRuntimeError\u001b[0m: One of the subprocesses has abruptly died during map operation.To debug the error, disable multiprocessing."
     ]
    }
   ],
   "source": [
    "def prepare_dataset(batch):\n",
    "    # 오디오 파일을 16kHz로 로드\n",
    "    audio = batch[\"audio\"]\n",
    "\n",
    "    # input audio array로부터 log-Mel spectrogram 변환\n",
    "    batch[\"input_features\"] = feature_extractor(audio[\"array\"], sampling_rate=audio[\"sampling_rate\"]).input_features[0]\n",
    "\n",
    "    # target text를 label ids로 변환\n",
    "    batch[\"labels\"] = tokenizer(batch[\"transcripts\"]).input_ids\n",
    "    return batch\n",
    "low_call_voices = datasets.map(prepare_dataset, remove_columns=datasets.column_names[\"train\"])"
   ]
  },
  {
   "cell_type": "code",
   "execution_count": null,
   "metadata": {},
   "outputs": [],
   "source": []
  }
 ],
 "metadata": {
  "kernelspec": {
   "display_name": "base",
   "language": "python",
   "name": "python3"
  },
  "language_info": {
   "codemirror_mode": {
    "name": "ipython",
    "version": 3
   },
   "file_extension": ".py",
   "mimetype": "text/x-python",
   "name": "python",
   "nbconvert_exporter": "python",
   "pygments_lexer": "ipython3",
   "version": "3.12.4"
  }
 },
 "nbformat": 4,
 "nbformat_minor": 2
}
