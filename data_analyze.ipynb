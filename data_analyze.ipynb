{
 "cells": [
  {
   "cell_type": "markdown",
   "id": "345f4f70",
   "metadata": {},
   "source": [
    "# data_analyze.ipynb\n",
    "\n",
    "train 데이터셋의 모국어-카테고리 분포를 분석하고, 일정한 개수만 남겨 train/val/test 데이터셋 분할하는 파일"
   ]
  },
  {
   "cell_type": "code",
   "execution_count": 41,
   "id": "cb005a87",
   "metadata": {},
   "outputs": [],
   "source": [
    "import pandas as pd\n",
    "import matplotlib.pyplot as plt"
   ]
  },
  {
   "cell_type": "code",
   "execution_count": 42,
   "id": "bb8d5a5e",
   "metadata": {},
   "outputs": [],
   "source": [
    "merged_df = pd.read_pickle('./data/train/labeling/marged.pikl')"
   ]
  },
  {
   "cell_type": "markdown",
   "id": "22130939",
   "metadata": {},
   "source": [
    "음성파일 길이 분석"
   ]
  },
  {
   "cell_type": "code",
   "execution_count": 43,
   "id": "91a77495",
   "metadata": {},
   "outputs": [
    {
     "data": {
      "text/html": [
       "<div>\n",
       "<style scoped>\n",
       "    .dataframe tbody tr th:only-of-type {\n",
       "        vertical-align: middle;\n",
       "    }\n",
       "\n",
       "    .dataframe tbody tr th {\n",
       "        vertical-align: top;\n",
       "    }\n",
       "\n",
       "    .dataframe thead th {\n",
       "        text-align: right;\n",
       "    }\n",
       "</style>\n",
       "<table border=\"1\" class=\"dataframe\">\n",
       "  <thead>\n",
       "    <tr style=\"text-align: right;\">\n",
       "      <th></th>\n",
       "      <th>recordTime</th>\n",
       "      <th>birthYear</th>\n",
       "      <th>LearningPeriod</th>\n",
       "    </tr>\n",
       "  </thead>\n",
       "  <tbody>\n",
       "    <tr>\n",
       "      <th>count</th>\n",
       "      <td>587320.000000</td>\n",
       "      <td>587320.000000</td>\n",
       "      <td>587320.000000</td>\n",
       "    </tr>\n",
       "    <tr>\n",
       "      <th>mean</th>\n",
       "      <td>13.290898</td>\n",
       "      <td>1989.848185</td>\n",
       "      <td>49.362787</td>\n",
       "    </tr>\n",
       "    <tr>\n",
       "      <th>std</th>\n",
       "      <td>4.826729</td>\n",
       "      <td>9.573554</td>\n",
       "      <td>43.677255</td>\n",
       "    </tr>\n",
       "    <tr>\n",
       "      <th>min</th>\n",
       "      <td>1.437000</td>\n",
       "      <td>1955.000000</td>\n",
       "      <td>1.000000</td>\n",
       "    </tr>\n",
       "    <tr>\n",
       "      <th>25%</th>\n",
       "      <td>10.672000</td>\n",
       "      <td>1985.000000</td>\n",
       "      <td>24.000000</td>\n",
       "    </tr>\n",
       "    <tr>\n",
       "      <th>50%</th>\n",
       "      <td>12.347000</td>\n",
       "      <td>1993.000000</td>\n",
       "      <td>36.000000</td>\n",
       "    </tr>\n",
       "    <tr>\n",
       "      <th>75%</th>\n",
       "      <td>14.640000</td>\n",
       "      <td>1997.000000</td>\n",
       "      <td>60.000000</td>\n",
       "    </tr>\n",
       "    <tr>\n",
       "      <th>max</th>\n",
       "      <td>290.700000</td>\n",
       "      <td>2005.000000</td>\n",
       "      <td>360.000000</td>\n",
       "    </tr>\n",
       "  </tbody>\n",
       "</table>\n",
       "</div>"
      ],
      "text/plain": [
       "          recordTime      birthYear  LearningPeriod\n",
       "count  587320.000000  587320.000000   587320.000000\n",
       "mean       13.290898    1989.848185       49.362787\n",
       "std         4.826729       9.573554       43.677255\n",
       "min         1.437000    1955.000000        1.000000\n",
       "25%        10.672000    1985.000000       24.000000\n",
       "50%        12.347000    1993.000000       36.000000\n",
       "75%        14.640000    1997.000000       60.000000\n",
       "max       290.700000    2005.000000      360.000000"
      ]
     },
     "execution_count": 43,
     "metadata": {},
     "output_type": "execute_result"
    }
   ],
   "source": [
    "merged_df.describe()"
   ]
  },
  {
   "cell_type": "markdown",
   "id": "cc005d5a",
   "metadata": {},
   "source": [
    "음성파일 8초 이상 14초 이하 데이터셋만 필터링"
   ]
  },
  {
   "cell_type": "code",
   "execution_count": 44,
   "id": "7576c8b3",
   "metadata": {},
   "outputs": [],
   "source": [
    "min_sec = 8\n",
    "max_sec = 14\n",
    "filtered_data = merged_df[(merged_df['recordTime'] >= min_sec) & (merged_df['recordTime'] <= max_sec)]\n",
    "filtered_data = filtered_data.reset_index(drop=True)"
   ]
  },
  {
   "cell_type": "code",
   "execution_count": 45,
   "id": "962847fe",
   "metadata": {},
   "outputs": [
    {
     "name": "stdout",
     "output_type": "stream",
     "text": [
      "<class 'pandas.core.frame.DataFrame'>\n",
      "RangeIndex: 395023 entries, 0 to 395022\n",
      "Data columns (total 25 columns):\n",
      " #   Column            Non-Null Count   Dtype  \n",
      "---  ------            --------------   -----  \n",
      " 0   fileName          395023 non-null  object \n",
      " 1   speakerID         395023 non-null  object \n",
      " 2   sentenceID        395023 non-null  object \n",
      " 3   recordUnit        395023 non-null  object \n",
      " 4   recordQuality     395023 non-null  object \n",
      " 5   recordDate        395023 non-null  object \n",
      " 6   recordTime        395023 non-null  float64\n",
      " 7   Reading           347074 non-null  object \n",
      " 8   ReadingLabelText  347074 non-null  object \n",
      " 9   Question          47949 non-null   object \n",
      " 10  AnswerLabelText   47949 non-null   object \n",
      " 11  SentenceSpeechLV  395023 non-null  object \n",
      " 12  SpeakerID         395023 non-null  object \n",
      " 13  gender            395023 non-null  object \n",
      " 14  birthYear         395023 non-null  int64  \n",
      " 15  eduBackground     395023 non-null  object \n",
      " 16  country           395023 non-null  object \n",
      " 17  residencePeriod   395023 non-null  object \n",
      " 18  residenceCity     395023 non-null  object \n",
      " 19  languageClass     395023 non-null  object \n",
      " 20  motherTongue      395023 non-null  object \n",
      " 21  selfAssessment    395023 non-null  object \n",
      " 22  topikGrade        395023 non-null  object \n",
      " 23  LearningPeriod    395023 non-null  int64  \n",
      " 24  learningSource    395023 non-null  object \n",
      "dtypes: float64(1), int64(2), object(22)\n",
      "memory usage: 75.3+ MB\n"
     ]
    }
   ],
   "source": [
    "filtered_data.info()"
   ]
  },
  {
   "cell_type": "code",
   "execution_count": 46,
   "id": "51b9bd5a",
   "metadata": {},
   "outputs": [
    {
     "data": {
      "text/plain": [
       "Index(['fileName', 'speakerID', 'sentenceID', 'recordUnit', 'recordQuality',\n",
       "       'recordDate', 'recordTime', 'Reading', 'ReadingLabelText', 'Question',\n",
       "       'AnswerLabelText', 'SentenceSpeechLV', 'SpeakerID', 'gender',\n",
       "       'birthYear', 'eduBackground', 'country', 'residencePeriod',\n",
       "       'residenceCity', 'languageClass', 'motherTongue', 'selfAssessment',\n",
       "       'topikGrade', 'LearningPeriod', 'learningSource'],\n",
       "      dtype='object')"
      ]
     },
     "execution_count": 46,
     "metadata": {},
     "output_type": "execute_result"
    }
   ],
   "source": [
    "filtered_data.columns"
   ]
  },
  {
   "cell_type": "code",
   "execution_count": 47,
   "id": "0cdd1c76",
   "metadata": {},
   "outputs": [],
   "source": [
    "import glob\n",
    "import soundfile as sf\n",
    "from tqdm import tqdm\n",
    "import re"
   ]
  },
  {
   "cell_type": "markdown",
   "id": "6c03beba",
   "metadata": {},
   "source": [
    "음성 파일 경로와 라벨 데이터로 활용할 transcribe text 가져와서 리턴하는 함수\n",
    "- 음성파일에 이상이 있다면 None 리턴\n",
    "- 각종 특수문자는 지우고 한글, 문장기호만 남김"
   ]
  },
  {
   "cell_type": "code",
   "execution_count": 48,
   "id": "074929eb",
   "metadata": {},
   "outputs": [],
   "source": [
    "def process_row(row):\n",
    "    file_name = row['fileName']\n",
    "    reading = row['ReadingLabelText']\n",
    "    answer = row['AnswerLabelText']\n",
    "    \n",
    "    # 오디오 파일 찾기\n",
    "    audio_files = glob.glob(f'./data/train/source/*/*/{file_name}')\n",
    "    if not audio_files:\n",
    "        return None  # 파일 없음\n",
    "\n",
    "    audio_path = audio_files[0]\n",
    "    \n",
    "    # 오디오 파일이 정상인지 확인\n",
    "    try:\n",
    "        with sf.SoundFile(audio_path) as f:\n",
    "            _ = f.frames\n",
    "    except RuntimeError:\n",
    "        return None  # 손상된 오디오\n",
    "\n",
    "    # 텍스트 결정\n",
    "    transcript = answer if pd.isna(reading) else reading\n",
    "    \n",
    "    pattern = r\"[^가-힣a-zA-Z0-9\\s?!\\.]\"\n",
    "    cleaned_transcript = re.sub(pattern, \"\", transcript)\n",
    "    \n",
    "    return (audio_path, cleaned_transcript)"
   ]
  },
  {
   "cell_type": "markdown",
   "id": "4a870aab",
   "metadata": {},
   "source": [
    "위에서 선언한 함수로 데이터 전처리"
   ]
  },
  {
   "cell_type": "code",
   "execution_count": 49,
   "id": "340c7d38",
   "metadata": {},
   "outputs": [
    {
     "name": "stderr",
     "output_type": "stream",
     "text": [
      "100%|██████████| 395023/395023 [01:30<00:00, 4343.54it/s]\n"
     ]
    }
   ],
   "source": [
    "result = []\n",
    "for i in tqdm(range(len(filtered_data))):\n",
    "    r = process_row(filtered_data.iloc[i,:])\n",
    "    if r is None: continue\n",
    "    result.append((i, r[0], r[1]))"
   ]
  },
  {
   "cell_type": "code",
   "execution_count": 50,
   "id": "bf989624",
   "metadata": {},
   "outputs": [
    {
     "data": {
      "text/plain": [
       "(0,\n",
       " './data/train/source/china/culture1/CN40QB226_CN0010_20210829.wav',\n",
       " '바쁜 직장 생활 때문에 쉬는 날에 집에 있게 되면 보통 맛있는 거 만들어서 어 시간을 보냅니다')"
      ]
     },
     "execution_count": 50,
     "metadata": {},
     "output_type": "execute_result"
    }
   ],
   "source": [
    "result[0]"
   ]
  },
  {
   "cell_type": "markdown",
   "id": "07fd2be9",
   "metadata": {},
   "source": [
    "위에서 선택된 데이터셋만 필터링"
   ]
  },
  {
   "cell_type": "code",
   "execution_count": 51,
   "id": "402c8765",
   "metadata": {},
   "outputs": [],
   "source": [
    "filtered_data = filtered_data.iloc[[i[0] for i in result], :]"
   ]
  },
  {
   "cell_type": "code",
   "execution_count": 52,
   "id": "765e8526",
   "metadata": {},
   "outputs": [
    {
     "data": {
      "text/plain": [
       "(365882, 25)"
      ]
     },
     "execution_count": 52,
     "metadata": {},
     "output_type": "execute_result"
    }
   ],
   "source": [
    "filtered_data = filtered_data.reset_index(drop=True)\n",
    "filtered_data.shape"
   ]
  },
  {
   "cell_type": "markdown",
   "id": "0f9d8b45",
   "metadata": {},
   "source": [
    "result 결과 입력"
   ]
  },
  {
   "cell_type": "code",
   "execution_count": 53,
   "id": "a7baef96",
   "metadata": {},
   "outputs": [
    {
     "data": {
      "text/plain": [
       "(365882, 27)"
      ]
     },
     "execution_count": 53,
     "metadata": {},
     "output_type": "execute_result"
    }
   ],
   "source": [
    "filtered_data['fileName'] = [i[1] for i in result]\n",
    "filtered_data['type'] = [i[1].split('/')[5] for i in result]\n",
    "filtered_data['text'] = [i[2] for i in result]\n",
    "filtered_data.shape"
   ]
  },
  {
   "cell_type": "markdown",
   "id": "c1b46d38",
   "metadata": {},
   "source": [
    "필터링된 전체 데이터 저장"
   ]
  },
  {
   "cell_type": "code",
   "execution_count": 54,
   "id": "7b5645ba",
   "metadata": {},
   "outputs": [],
   "source": [
    "filtered_data.to_pickle('./data/train/labeling/filtered.pikl')"
   ]
  },
  {
   "cell_type": "markdown",
   "id": "67f2bd8e",
   "metadata": {},
   "source": [
    "데이터 분포 확인"
   ]
  },
  {
   "cell_type": "code",
   "execution_count": 55,
   "id": "d0e0df2a",
   "metadata": {},
   "outputs": [
    {
     "data": {
      "text/html": [
       "<div>\n",
       "<style scoped>\n",
       "    .dataframe tbody tr th:only-of-type {\n",
       "        vertical-align: middle;\n",
       "    }\n",
       "\n",
       "    .dataframe tbody tr th {\n",
       "        vertical-align: top;\n",
       "    }\n",
       "\n",
       "    .dataframe thead th {\n",
       "        text-align: right;\n",
       "    }\n",
       "</style>\n",
       "<table border=\"1\" class=\"dataframe\">\n",
       "  <thead>\n",
       "    <tr style=\"text-align: right;\">\n",
       "      <th>type</th>\n",
       "      <th>culture1</th>\n",
       "      <th>culture2</th>\n",
       "      <th>general</th>\n",
       "      <th>life1</th>\n",
       "      <th>life2</th>\n",
       "    </tr>\n",
       "    <tr>\n",
       "      <th>languageClass</th>\n",
       "      <th></th>\n",
       "      <th></th>\n",
       "      <th></th>\n",
       "      <th></th>\n",
       "      <th></th>\n",
       "    </tr>\n",
       "  </thead>\n",
       "  <tbody>\n",
       "    <tr>\n",
       "      <th>베트남어</th>\n",
       "      <td>18913</td>\n",
       "      <td>14345</td>\n",
       "      <td>21434</td>\n",
       "      <td>19242</td>\n",
       "      <td>17255</td>\n",
       "    </tr>\n",
       "    <tr>\n",
       "      <th>영어</th>\n",
       "      <td>1489</td>\n",
       "      <td>943</td>\n",
       "      <td>8512</td>\n",
       "      <td>1797</td>\n",
       "      <td>1905</td>\n",
       "    </tr>\n",
       "    <tr>\n",
       "      <th>일본어</th>\n",
       "      <td>27720</td>\n",
       "      <td>25192</td>\n",
       "      <td>25539</td>\n",
       "      <td>24629</td>\n",
       "      <td>24275</td>\n",
       "    </tr>\n",
       "    <tr>\n",
       "      <th>중국어</th>\n",
       "      <td>31587</td>\n",
       "      <td>0</td>\n",
       "      <td>38643</td>\n",
       "      <td>33311</td>\n",
       "      <td>29151</td>\n",
       "    </tr>\n",
       "  </tbody>\n",
       "</table>\n",
       "</div>"
      ],
      "text/plain": [
       "type           culture1  culture2  general  life1  life2\n",
       "languageClass                                           \n",
       "베트남어              18913     14345    21434  19242  17255\n",
       "영어                 1489       943     8512   1797   1905\n",
       "일본어               27720     25192    25539  24629  24275\n",
       "중국어               31587         0    38643  33311  29151"
      ]
     },
     "execution_count": 55,
     "metadata": {},
     "output_type": "execute_result"
    }
   ],
   "source": [
    "pd.crosstab(filtered_data['languageClass'], filtered_data['type'])"
   ]
  },
  {
   "cell_type": "markdown",
   "id": "ca8860b2",
   "metadata": {},
   "source": [
    "- 데이터가 하나도 존재하지 않는 부분이 있는 culture2 라벨 제외\n",
    "- 모국어-카테고리 그룹화 한 데이터 중 각 항목마다 1489개 랜덤 샘플링"
   ]
  },
  {
   "cell_type": "code",
   "execution_count": 56,
   "id": "289b9089",
   "metadata": {},
   "outputs": [
    {
     "name": "stderr",
     "output_type": "stream",
     "text": [
      "/tmp/ipykernel_10285/3793741149.py:1: DeprecationWarning: DataFrameGroupBy.apply operated on the grouping columns. This behavior is deprecated, and in a future version of pandas the grouping columns will be excluded from the operation. Either pass `include_groups=False` to exclude the groupings or explicitly select the grouping columns after groupby to silence this warning.\n",
      "  balanced_df = filtered_data[filtered_data['type'] != 'culture2'].groupby(['languageClass', 'type'], group_keys=False).apply(lambda x: x.sample(1489, random_state=42))\n"
     ]
    },
    {
     "data": {
      "text/plain": [
       "(23824, 27)"
      ]
     },
     "execution_count": 56,
     "metadata": {},
     "output_type": "execute_result"
    }
   ],
   "source": [
    "balanced_df = filtered_data[filtered_data['type'] != 'culture2'].groupby(['languageClass', 'type'], group_keys=False).apply(lambda x: x.sample(1489, random_state=42))\n",
    "balanced_df.shape"
   ]
  },
  {
   "cell_type": "markdown",
   "id": "962191f8",
   "metadata": {},
   "source": [
    "샘플링된 데이터 분포 확인"
   ]
  },
  {
   "cell_type": "code",
   "execution_count": 57,
   "id": "8928360c",
   "metadata": {},
   "outputs": [
    {
     "data": {
      "text/html": [
       "<div>\n",
       "<style scoped>\n",
       "    .dataframe tbody tr th:only-of-type {\n",
       "        vertical-align: middle;\n",
       "    }\n",
       "\n",
       "    .dataframe tbody tr th {\n",
       "        vertical-align: top;\n",
       "    }\n",
       "\n",
       "    .dataframe thead th {\n",
       "        text-align: right;\n",
       "    }\n",
       "</style>\n",
       "<table border=\"1\" class=\"dataframe\">\n",
       "  <thead>\n",
       "    <tr style=\"text-align: right;\">\n",
       "      <th>type</th>\n",
       "      <th>culture1</th>\n",
       "      <th>general</th>\n",
       "      <th>life1</th>\n",
       "      <th>life2</th>\n",
       "    </tr>\n",
       "    <tr>\n",
       "      <th>languageClass</th>\n",
       "      <th></th>\n",
       "      <th></th>\n",
       "      <th></th>\n",
       "      <th></th>\n",
       "    </tr>\n",
       "  </thead>\n",
       "  <tbody>\n",
       "    <tr>\n",
       "      <th>베트남어</th>\n",
       "      <td>1489</td>\n",
       "      <td>1489</td>\n",
       "      <td>1489</td>\n",
       "      <td>1489</td>\n",
       "    </tr>\n",
       "    <tr>\n",
       "      <th>영어</th>\n",
       "      <td>1489</td>\n",
       "      <td>1489</td>\n",
       "      <td>1489</td>\n",
       "      <td>1489</td>\n",
       "    </tr>\n",
       "    <tr>\n",
       "      <th>일본어</th>\n",
       "      <td>1489</td>\n",
       "      <td>1489</td>\n",
       "      <td>1489</td>\n",
       "      <td>1489</td>\n",
       "    </tr>\n",
       "    <tr>\n",
       "      <th>중국어</th>\n",
       "      <td>1489</td>\n",
       "      <td>1489</td>\n",
       "      <td>1489</td>\n",
       "      <td>1489</td>\n",
       "    </tr>\n",
       "  </tbody>\n",
       "</table>\n",
       "</div>"
      ],
      "text/plain": [
       "type           culture1  general  life1  life2\n",
       "languageClass                                 \n",
       "베트남어               1489     1489   1489   1489\n",
       "영어                 1489     1489   1489   1489\n",
       "일본어                1489     1489   1489   1489\n",
       "중국어                1489     1489   1489   1489"
      ]
     },
     "execution_count": 57,
     "metadata": {},
     "output_type": "execute_result"
    }
   ],
   "source": [
    "pd.crosstab(balanced_df['languageClass'], balanced_df['type'])"
   ]
  },
  {
   "cell_type": "markdown",
   "id": "52d6ce0c",
   "metadata": {},
   "source": [
    "샘플링된 데이터 저장"
   ]
  },
  {
   "cell_type": "code",
   "execution_count": 58,
   "id": "ca6503b6",
   "metadata": {},
   "outputs": [],
   "source": [
    "balanced_df.to_pickle('./data/train/labeling/filtered_balanced.pikl')"
   ]
  },
  {
   "cell_type": "markdown",
   "id": "9a697144",
   "metadata": {},
   "source": [
    "샘플링된 데이터를 제외하고 테스트 데이터 후보"
   ]
  },
  {
   "cell_type": "code",
   "execution_count": 59,
   "id": "00c10123",
   "metadata": {},
   "outputs": [
    {
     "data": {
      "text/plain": [
       "(342058, 27)"
      ]
     },
     "execution_count": 59,
     "metadata": {},
     "output_type": "execute_result"
    }
   ],
   "source": [
    "filtered_data_test = filtered_data.drop(balanced_df.index.values)\n",
    "filtered_data_test.shape"
   ]
  },
  {
   "cell_type": "markdown",
   "id": "90bde52f",
   "metadata": {},
   "source": [
    "valid 후보 데이터 분포 확인"
   ]
  },
  {
   "cell_type": "code",
   "execution_count": 60,
   "id": "c4ef3a9a",
   "metadata": {},
   "outputs": [
    {
     "data": {
      "text/html": [
       "<div>\n",
       "<style scoped>\n",
       "    .dataframe tbody tr th:only-of-type {\n",
       "        vertical-align: middle;\n",
       "    }\n",
       "\n",
       "    .dataframe tbody tr th {\n",
       "        vertical-align: top;\n",
       "    }\n",
       "\n",
       "    .dataframe thead th {\n",
       "        text-align: right;\n",
       "    }\n",
       "</style>\n",
       "<table border=\"1\" class=\"dataframe\">\n",
       "  <thead>\n",
       "    <tr style=\"text-align: right;\">\n",
       "      <th>type</th>\n",
       "      <th>culture1</th>\n",
       "      <th>culture2</th>\n",
       "      <th>general</th>\n",
       "      <th>life1</th>\n",
       "      <th>life2</th>\n",
       "    </tr>\n",
       "    <tr>\n",
       "      <th>languageClass</th>\n",
       "      <th></th>\n",
       "      <th></th>\n",
       "      <th></th>\n",
       "      <th></th>\n",
       "      <th></th>\n",
       "    </tr>\n",
       "  </thead>\n",
       "  <tbody>\n",
       "    <tr>\n",
       "      <th>베트남어</th>\n",
       "      <td>17424</td>\n",
       "      <td>14345</td>\n",
       "      <td>19945</td>\n",
       "      <td>17753</td>\n",
       "      <td>15766</td>\n",
       "    </tr>\n",
       "    <tr>\n",
       "      <th>영어</th>\n",
       "      <td>0</td>\n",
       "      <td>943</td>\n",
       "      <td>7023</td>\n",
       "      <td>308</td>\n",
       "      <td>416</td>\n",
       "    </tr>\n",
       "    <tr>\n",
       "      <th>일본어</th>\n",
       "      <td>26231</td>\n",
       "      <td>25192</td>\n",
       "      <td>24050</td>\n",
       "      <td>23140</td>\n",
       "      <td>22786</td>\n",
       "    </tr>\n",
       "    <tr>\n",
       "      <th>중국어</th>\n",
       "      <td>30098</td>\n",
       "      <td>0</td>\n",
       "      <td>37154</td>\n",
       "      <td>31822</td>\n",
       "      <td>27662</td>\n",
       "    </tr>\n",
       "  </tbody>\n",
       "</table>\n",
       "</div>"
      ],
      "text/plain": [
       "type           culture1  culture2  general  life1  life2\n",
       "languageClass                                           \n",
       "베트남어              17424     14345    19945  17753  15766\n",
       "영어                    0       943     7023    308    416\n",
       "일본어               26231     25192    24050  23140  22786\n",
       "중국어               30098         0    37154  31822  27662"
      ]
     },
     "execution_count": 60,
     "metadata": {},
     "output_type": "execute_result"
    }
   ],
   "source": [
    "pd.crosstab(filtered_data_test['languageClass'], filtered_data_test['type'])"
   ]
  },
  {
   "cell_type": "markdown",
   "id": "1bea71bf",
   "metadata": {},
   "source": [
    "- 데이터가 하나도 존재하지 않는 부분이 있는 culture2 라벨 제외\n",
    "- 모국어-카테고리 그룹화 한 데이터 중 각 항목마다 308 랜덤 샘플링"
   ]
  },
  {
   "cell_type": "code",
   "execution_count": 72,
   "id": "b237b99c",
   "metadata": {},
   "outputs": [
    {
     "name": "stderr",
     "output_type": "stream",
     "text": [
      "/tmp/ipykernel_10285/996641020.py:1: DeprecationWarning: DataFrameGroupBy.apply operated on the grouping columns. This behavior is deprecated, and in a future version of pandas the grouping columns will be excluded from the operation. Either pass `include_groups=False` to exclude the groupings or explicitly select the grouping columns after groupby to silence this warning.\n",
      "  balanced_df_test = filtered_data_test[filtered_data_test['type'] != 'culture2'].groupby(['languageClass', 'type'], group_keys=False).apply(lambda x: x.sample(308, random_state=42))\n"
     ]
    },
    {
     "data": {
      "text/plain": [
       "(4620, 27)"
      ]
     },
     "execution_count": 72,
     "metadata": {},
     "output_type": "execute_result"
    }
   ],
   "source": [
    "balanced_df_test = filtered_data_test[filtered_data_test['type'] != 'culture2'].groupby(['languageClass', 'type'], group_keys=False).apply(lambda x: x.sample(308, random_state=42))\n",
    "balanced_df_test.shape"
   ]
  },
  {
   "cell_type": "markdown",
   "id": "f70ae1a6",
   "metadata": {},
   "source": [
    "필터링된 valid 데이터 분포 확인"
   ]
  },
  {
   "cell_type": "code",
   "execution_count": 73,
   "id": "31f27fed",
   "metadata": {},
   "outputs": [
    {
     "data": {
      "text/html": [
       "<div>\n",
       "<style scoped>\n",
       "    .dataframe tbody tr th:only-of-type {\n",
       "        vertical-align: middle;\n",
       "    }\n",
       "\n",
       "    .dataframe tbody tr th {\n",
       "        vertical-align: top;\n",
       "    }\n",
       "\n",
       "    .dataframe thead th {\n",
       "        text-align: right;\n",
       "    }\n",
       "</style>\n",
       "<table border=\"1\" class=\"dataframe\">\n",
       "  <thead>\n",
       "    <tr style=\"text-align: right;\">\n",
       "      <th>type</th>\n",
       "      <th>culture1</th>\n",
       "      <th>general</th>\n",
       "      <th>life1</th>\n",
       "      <th>life2</th>\n",
       "    </tr>\n",
       "    <tr>\n",
       "      <th>languageClass</th>\n",
       "      <th></th>\n",
       "      <th></th>\n",
       "      <th></th>\n",
       "      <th></th>\n",
       "    </tr>\n",
       "  </thead>\n",
       "  <tbody>\n",
       "    <tr>\n",
       "      <th>베트남어</th>\n",
       "      <td>308</td>\n",
       "      <td>308</td>\n",
       "      <td>308</td>\n",
       "      <td>308</td>\n",
       "    </tr>\n",
       "    <tr>\n",
       "      <th>영어</th>\n",
       "      <td>0</td>\n",
       "      <td>308</td>\n",
       "      <td>308</td>\n",
       "      <td>308</td>\n",
       "    </tr>\n",
       "    <tr>\n",
       "      <th>일본어</th>\n",
       "      <td>308</td>\n",
       "      <td>308</td>\n",
       "      <td>308</td>\n",
       "      <td>308</td>\n",
       "    </tr>\n",
       "    <tr>\n",
       "      <th>중국어</th>\n",
       "      <td>308</td>\n",
       "      <td>308</td>\n",
       "      <td>308</td>\n",
       "      <td>308</td>\n",
       "    </tr>\n",
       "  </tbody>\n",
       "</table>\n",
       "</div>"
      ],
      "text/plain": [
       "type           culture1  general  life1  life2\n",
       "languageClass                                 \n",
       "베트남어                308      308    308    308\n",
       "영어                    0      308    308    308\n",
       "일본어                 308      308    308    308\n",
       "중국어                 308      308    308    308"
      ]
     },
     "execution_count": 73,
     "metadata": {},
     "output_type": "execute_result"
    }
   ],
   "source": [
    "pd.crosstab(balanced_df_test['languageClass'], balanced_df_test['type'])"
   ]
  },
  {
   "cell_type": "markdown",
   "id": "dc31735b",
   "metadata": {},
   "source": [
    "validation 데이터 저장"
   ]
  },
  {
   "cell_type": "code",
   "execution_count": 74,
   "id": "868a6a0e",
   "metadata": {},
   "outputs": [],
   "source": [
    "balanced_df_test.to_pickle('./data/train/labeling/filtered_balanced_valid.pikl')"
   ]
  },
  {
   "cell_type": "markdown",
   "id": "fe2829ae",
   "metadata": {},
   "source": [
    "train/valid 데이터 제외 후 test 데이터 후보로 남김"
   ]
  },
  {
   "cell_type": "code",
   "execution_count": 75,
   "id": "38217152",
   "metadata": {},
   "outputs": [
    {
     "data": {
      "text/plain": [
       "(337438, 27)"
      ]
     },
     "execution_count": 75,
     "metadata": {},
     "output_type": "execute_result"
    }
   ],
   "source": [
    "filtered_data_valid = filtered_data_test.drop(balanced_df_test.index.values)\n",
    "filtered_data_valid.shape"
   ]
  },
  {
   "cell_type": "markdown",
   "id": "a9d50e7c",
   "metadata": {},
   "source": [
    "분포 확인"
   ]
  },
  {
   "cell_type": "code",
   "execution_count": 76,
   "id": "8ecc1741",
   "metadata": {},
   "outputs": [
    {
     "data": {
      "text/html": [
       "<div>\n",
       "<style scoped>\n",
       "    .dataframe tbody tr th:only-of-type {\n",
       "        vertical-align: middle;\n",
       "    }\n",
       "\n",
       "    .dataframe tbody tr th {\n",
       "        vertical-align: top;\n",
       "    }\n",
       "\n",
       "    .dataframe thead th {\n",
       "        text-align: right;\n",
       "    }\n",
       "</style>\n",
       "<table border=\"1\" class=\"dataframe\">\n",
       "  <thead>\n",
       "    <tr style=\"text-align: right;\">\n",
       "      <th>type</th>\n",
       "      <th>culture1</th>\n",
       "      <th>culture2</th>\n",
       "      <th>general</th>\n",
       "      <th>life1</th>\n",
       "      <th>life2</th>\n",
       "    </tr>\n",
       "    <tr>\n",
       "      <th>languageClass</th>\n",
       "      <th></th>\n",
       "      <th></th>\n",
       "      <th></th>\n",
       "      <th></th>\n",
       "      <th></th>\n",
       "    </tr>\n",
       "  </thead>\n",
       "  <tbody>\n",
       "    <tr>\n",
       "      <th>베트남어</th>\n",
       "      <td>17116</td>\n",
       "      <td>14345</td>\n",
       "      <td>19637</td>\n",
       "      <td>17445</td>\n",
       "      <td>15458</td>\n",
       "    </tr>\n",
       "    <tr>\n",
       "      <th>영어</th>\n",
       "      <td>0</td>\n",
       "      <td>943</td>\n",
       "      <td>6715</td>\n",
       "      <td>0</td>\n",
       "      <td>108</td>\n",
       "    </tr>\n",
       "    <tr>\n",
       "      <th>일본어</th>\n",
       "      <td>25923</td>\n",
       "      <td>25192</td>\n",
       "      <td>23742</td>\n",
       "      <td>22832</td>\n",
       "      <td>22478</td>\n",
       "    </tr>\n",
       "    <tr>\n",
       "      <th>중국어</th>\n",
       "      <td>29790</td>\n",
       "      <td>0</td>\n",
       "      <td>36846</td>\n",
       "      <td>31514</td>\n",
       "      <td>27354</td>\n",
       "    </tr>\n",
       "  </tbody>\n",
       "</table>\n",
       "</div>"
      ],
      "text/plain": [
       "type           culture1  culture2  general  life1  life2\n",
       "languageClass                                           \n",
       "베트남어              17116     14345    19637  17445  15458\n",
       "영어                    0       943     6715      0    108\n",
       "일본어               25923     25192    23742  22832  22478\n",
       "중국어               29790         0    36846  31514  27354"
      ]
     },
     "execution_count": 76,
     "metadata": {},
     "output_type": "execute_result"
    }
   ],
   "source": [
    "pd.crosstab(filtered_data_valid['languageClass'], filtered_data_valid['type'])"
   ]
  },
  {
   "cell_type": "markdown",
   "id": "ec833193",
   "metadata": {},
   "source": [
    "같은 방식으로 필터링"
   ]
  },
  {
   "cell_type": "code",
   "execution_count": 78,
   "id": "4fc18db3",
   "metadata": {},
   "outputs": [
    {
     "name": "stderr",
     "output_type": "stream",
     "text": [
      "/tmp/ipykernel_10285/3309348974.py:1: DeprecationWarning: DataFrameGroupBy.apply operated on the grouping columns. This behavior is deprecated, and in a future version of pandas the grouping columns will be excluded from the operation. Either pass `include_groups=False` to exclude the groupings or explicitly select the grouping columns after groupby to silence this warning.\n",
      "  balanced_df_valid = filtered_data_valid[filtered_data_valid['type'] != 'culture2'].groupby(['languageClass', 'type'], group_keys=False).apply(lambda x: x.sample(108, random_state=42))\n"
     ]
    },
    {
     "data": {
      "text/plain": [
       "(1512, 27)"
      ]
     },
     "execution_count": 78,
     "metadata": {},
     "output_type": "execute_result"
    }
   ],
   "source": [
    "balanced_df_valid = filtered_data_valid[filtered_data_valid['type'] != 'culture2'].groupby(['languageClass', 'type'], group_keys=False).apply(lambda x: x.sample(108, random_state=42))\n",
    "balanced_df_valid.shape"
   ]
  },
  {
   "cell_type": "code",
   "execution_count": 79,
   "id": "3e8bf52a",
   "metadata": {},
   "outputs": [
    {
     "data": {
      "text/html": [
       "<div>\n",
       "<style scoped>\n",
       "    .dataframe tbody tr th:only-of-type {\n",
       "        vertical-align: middle;\n",
       "    }\n",
       "\n",
       "    .dataframe tbody tr th {\n",
       "        vertical-align: top;\n",
       "    }\n",
       "\n",
       "    .dataframe thead th {\n",
       "        text-align: right;\n",
       "    }\n",
       "</style>\n",
       "<table border=\"1\" class=\"dataframe\">\n",
       "  <thead>\n",
       "    <tr style=\"text-align: right;\">\n",
       "      <th>type</th>\n",
       "      <th>culture1</th>\n",
       "      <th>general</th>\n",
       "      <th>life1</th>\n",
       "      <th>life2</th>\n",
       "    </tr>\n",
       "    <tr>\n",
       "      <th>languageClass</th>\n",
       "      <th></th>\n",
       "      <th></th>\n",
       "      <th></th>\n",
       "      <th></th>\n",
       "    </tr>\n",
       "  </thead>\n",
       "  <tbody>\n",
       "    <tr>\n",
       "      <th>베트남어</th>\n",
       "      <td>108</td>\n",
       "      <td>108</td>\n",
       "      <td>108</td>\n",
       "      <td>108</td>\n",
       "    </tr>\n",
       "    <tr>\n",
       "      <th>영어</th>\n",
       "      <td>0</td>\n",
       "      <td>108</td>\n",
       "      <td>0</td>\n",
       "      <td>108</td>\n",
       "    </tr>\n",
       "    <tr>\n",
       "      <th>일본어</th>\n",
       "      <td>108</td>\n",
       "      <td>108</td>\n",
       "      <td>108</td>\n",
       "      <td>108</td>\n",
       "    </tr>\n",
       "    <tr>\n",
       "      <th>중국어</th>\n",
       "      <td>108</td>\n",
       "      <td>108</td>\n",
       "      <td>108</td>\n",
       "      <td>108</td>\n",
       "    </tr>\n",
       "  </tbody>\n",
       "</table>\n",
       "</div>"
      ],
      "text/plain": [
       "type           culture1  general  life1  life2\n",
       "languageClass                                 \n",
       "베트남어                108      108    108    108\n",
       "영어                    0      108      0    108\n",
       "일본어                 108      108    108    108\n",
       "중국어                 108      108    108    108"
      ]
     },
     "execution_count": 79,
     "metadata": {},
     "output_type": "execute_result"
    }
   ],
   "source": [
    "pd.crosstab(balanced_df_valid['languageClass'], balanced_df_valid['type'])"
   ]
  },
  {
   "cell_type": "markdown",
   "id": "5b3445ea",
   "metadata": {},
   "source": [
    "테스트 데이터셋 저장"
   ]
  },
  {
   "cell_type": "code",
   "execution_count": 81,
   "id": "2817b746",
   "metadata": {},
   "outputs": [],
   "source": [
    "balanced_df_valid.to_pickle('./data/train/labeling/filtered_balanced_test.pikl')"
   ]
  },
  {
   "cell_type": "code",
   "execution_count": null,
   "id": "5a601f5b",
   "metadata": {},
   "outputs": [],
   "source": []
  }
 ],
 "metadata": {
  "kernelspec": {
   "display_name": "base",
   "language": "python",
   "name": "python3"
  },
  "language_info": {
   "codemirror_mode": {
    "name": "ipython",
    "version": 3
   },
   "file_extension": ".py",
   "mimetype": "text/x-python",
   "name": "python",
   "nbconvert_exporter": "python",
   "pygments_lexer": "ipython3",
   "version": "3.12.4"
  }
 },
 "nbformat": 4,
 "nbformat_minor": 5
}
