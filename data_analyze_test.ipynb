{
 "cells": [
  {
   "cell_type": "code",
   "execution_count": 3,
   "id": "cb005a87",
   "metadata": {},
   "outputs": [],
   "source": [
    "import pandas as pd\n",
    "import matplotlib.pyplot as plt\n",
    "import glob"
   ]
  },
  {
   "cell_type": "code",
   "execution_count": 4,
   "id": "ea5a6e98",
   "metadata": {},
   "outputs": [
    {
     "data": {
      "text/plain": [
       "'./data/validation/labeling/japan/general/JP16RC144_JP0103_20210803.csv'"
      ]
     },
     "execution_count": 4,
     "metadata": {},
     "output_type": "execute_result"
    }
   ],
   "source": [
    "original_path = glob.glob('./data/validation/labeling/*/*/*.csv')\n",
    "original_path[0]"
   ]
  },
  {
   "cell_type": "code",
   "execution_count": 6,
   "id": "dc5878bc",
   "metadata": {},
   "outputs": [
    {
     "data": {
      "text/html": [
       "<div>\n",
       "<style scoped>\n",
       "    .dataframe tbody tr th:only-of-type {\n",
       "        vertical-align: middle;\n",
       "    }\n",
       "\n",
       "    .dataframe tbody tr th {\n",
       "        vertical-align: top;\n",
       "    }\n",
       "\n",
       "    .dataframe thead th {\n",
       "        text-align: right;\n",
       "    }\n",
       "</style>\n",
       "<table border=\"1\" class=\"dataframe\">\n",
       "  <thead>\n",
       "    <tr style=\"text-align: right;\">\n",
       "      <th></th>\n",
       "      <th>fileName</th>\n",
       "      <th>speakerID</th>\n",
       "      <th>sentenceID</th>\n",
       "      <th>recordUnit</th>\n",
       "      <th>recordQuality</th>\n",
       "      <th>recordDate</th>\n",
       "      <th>recordTime</th>\n",
       "      <th>Reading</th>\n",
       "      <th>ReadingLabelText</th>\n",
       "      <th>Question</th>\n",
       "      <th>...</th>\n",
       "      <th>eduBackground</th>\n",
       "      <th>country</th>\n",
       "      <th>residencePeriod</th>\n",
       "      <th>residenceCity</th>\n",
       "      <th>languageClass</th>\n",
       "      <th>motherTongue</th>\n",
       "      <th>selfAssessment</th>\n",
       "      <th>topikGrade</th>\n",
       "      <th>LearningPeriod</th>\n",
       "      <th>learningSource</th>\n",
       "    </tr>\n",
       "  </thead>\n",
       "  <tbody>\n",
       "    <tr>\n",
       "      <th>0</th>\n",
       "      <td>JP16RC144_JP0103_20210803.wav</td>\n",
       "      <td>JP0103</td>\n",
       "      <td>JP16RC144</td>\n",
       "      <td>ios</td>\n",
       "      <td>16bit 16kHz MONO</td>\n",
       "      <td>2021-08-03 11:11:46</td>\n",
       "      <td>11.916</td>\n",
       "      <td>기차를 탈 때, 기차표를 누구한테 보여 줘야 해요? 아니면 타기 전에, 무인 기계에...</td>\n",
       "      <td>기차를 탈 때 기차표를 누구한테 보여 줘야 해요 아니면 타기 전에 무인 기계에 찍고...</td>\n",
       "      <td>NaN</td>\n",
       "      <td>...</td>\n",
       "      <td>대졸</td>\n",
       "      <td>JP</td>\n",
       "      <td>5년 이상</td>\n",
       "      <td>KR-26</td>\n",
       "      <td>일본어</td>\n",
       "      <td>일본어</td>\n",
       "      <td>중</td>\n",
       "      <td>해당 없음</td>\n",
       "      <td>39</td>\n",
       "      <td>기타</td>\n",
       "    </tr>\n",
       "    <tr>\n",
       "      <th>1</th>\n",
       "      <td>JP16RC144_JP0071_20210801.wav</td>\n",
       "      <td>JP0071</td>\n",
       "      <td>JP16RC144</td>\n",
       "      <td>android</td>\n",
       "      <td>16bit 16kHz MONO</td>\n",
       "      <td>2021-08-01 20:08:03</td>\n",
       "      <td>9.485</td>\n",
       "      <td>기차를 탈 때, 기차표를 누구한테 보여 줘야 해요? 아니면 타기 전에, 무인 기계에...</td>\n",
       "      <td>기차를 탈 때 기차표를 누구한테 보여 줘야 해요 아니면 타기 전에 무인 기계에 찍고...</td>\n",
       "      <td>NaN</td>\n",
       "      <td>...</td>\n",
       "      <td>대졸</td>\n",
       "      <td>JP</td>\n",
       "      <td>5년 이상</td>\n",
       "      <td>KR-11</td>\n",
       "      <td>일본어</td>\n",
       "      <td>일본어</td>\n",
       "      <td>상</td>\n",
       "      <td>6</td>\n",
       "      <td>180</td>\n",
       "      <td>인터넷 강의</td>\n",
       "    </tr>\n",
       "    <tr>\n",
       "      <th>2</th>\n",
       "      <td>JP17RC156_JP0008_20210802.wav</td>\n",
       "      <td>JP0008</td>\n",
       "      <td>JP17RC156</td>\n",
       "      <td>ios</td>\n",
       "      <td>16bit 16kHz MONO</td>\n",
       "      <td>2021-08-02 17:21:30</td>\n",
       "      <td>12.300</td>\n",
       "      <td>저는 봄을 가장 좋아해요. 길거리에 예쁜 꽃도 많이 피잖아요. 따뜻하고 포근한 봄 ...</td>\n",
       "      <td>저는 봄을 가장 좋아해요 길거리에 예쁜 꽃도 많이 피잖아요 따뜻하고 포근한 봄 날씨...</td>\n",
       "      <td>NaN</td>\n",
       "      <td>...</td>\n",
       "      <td>고졸</td>\n",
       "      <td>JP</td>\n",
       "      <td>1년 이상 3년 미만</td>\n",
       "      <td>KR-11</td>\n",
       "      <td>일본어</td>\n",
       "      <td>일본어</td>\n",
       "      <td>중</td>\n",
       "      <td>5</td>\n",
       "      <td>84</td>\n",
       "      <td>영화/음악</td>\n",
       "    </tr>\n",
       "    <tr>\n",
       "      <th>3</th>\n",
       "      <td>JP14RC080_JP0021_20210730.wav</td>\n",
       "      <td>JP0021</td>\n",
       "      <td>JP14RC080</td>\n",
       "      <td>ios</td>\n",
       "      <td>16bit 16kHz MONO</td>\n",
       "      <td>2021-07-30 14:42:55</td>\n",
       "      <td>12.096</td>\n",
       "      <td>한 벌에 이십오만 원(250,000원)인데, 디자인이 너무 마음에 들어서, 빨간색이...</td>\n",
       "      <td>한 벌에 이십오만 원인데 디자인이 너무 마음에 들어서 빨간색이랑 주황색 분홍색까지 ...</td>\n",
       "      <td>NaN</td>\n",
       "      <td>...</td>\n",
       "      <td>대졸</td>\n",
       "      <td>JP</td>\n",
       "      <td>1년 이상 3년 미만</td>\n",
       "      <td>KR-11</td>\n",
       "      <td>일본어</td>\n",
       "      <td>일본어</td>\n",
       "      <td>중</td>\n",
       "      <td>5</td>\n",
       "      <td>18</td>\n",
       "      <td>학교 수업 (대학 포함)</td>\n",
       "    </tr>\n",
       "    <tr>\n",
       "      <th>4</th>\n",
       "      <td>JP13RC073_JP0176_20210803.wav</td>\n",
       "      <td>JP0176</td>\n",
       "      <td>JP13RC073</td>\n",
       "      <td>android</td>\n",
       "      <td>16bit 16kHz MONO</td>\n",
       "      <td>2021-08-03 01:34:55</td>\n",
       "      <td>12.142</td>\n",
       "      <td>한국말 실력이 부족하지만, 제가 한국 생활에 적응하는 데에 많은 도움을 준 친구를 ...</td>\n",
       "      <td>한국말 실력이 부족하지만 제가 한국 생활에 적응하는 데에 많은 도움을 준 친구를 위...</td>\n",
       "      <td>NaN</td>\n",
       "      <td>...</td>\n",
       "      <td>고졸</td>\n",
       "      <td>JP</td>\n",
       "      <td>5년 이상</td>\n",
       "      <td>KR-11</td>\n",
       "      <td>일본어</td>\n",
       "      <td>일본어</td>\n",
       "      <td>중</td>\n",
       "      <td>5</td>\n",
       "      <td>16</td>\n",
       "      <td>학원</td>\n",
       "    </tr>\n",
       "  </tbody>\n",
       "</table>\n",
       "<p>5 rows × 25 columns</p>\n",
       "</div>"
      ],
      "text/plain": [
       "                        fileName speakerID sentenceID recordUnit  \\\n",
       "0  JP16RC144_JP0103_20210803.wav    JP0103  JP16RC144        ios   \n",
       "1  JP16RC144_JP0071_20210801.wav    JP0071  JP16RC144    android   \n",
       "2  JP17RC156_JP0008_20210802.wav    JP0008  JP17RC156        ios   \n",
       "3  JP14RC080_JP0021_20210730.wav    JP0021  JP14RC080        ios   \n",
       "4  JP13RC073_JP0176_20210803.wav    JP0176  JP13RC073    android   \n",
       "\n",
       "      recordQuality           recordDate  recordTime  \\\n",
       "0  16bit 16kHz MONO  2021-08-03 11:11:46      11.916   \n",
       "1  16bit 16kHz MONO  2021-08-01 20:08:03       9.485   \n",
       "2  16bit 16kHz MONO  2021-08-02 17:21:30      12.300   \n",
       "3  16bit 16kHz MONO  2021-07-30 14:42:55      12.096   \n",
       "4  16bit 16kHz MONO  2021-08-03 01:34:55      12.142   \n",
       "\n",
       "                                             Reading  \\\n",
       "0  기차를 탈 때, 기차표를 누구한테 보여 줘야 해요? 아니면 타기 전에, 무인 기계에...   \n",
       "1  기차를 탈 때, 기차표를 누구한테 보여 줘야 해요? 아니면 타기 전에, 무인 기계에...   \n",
       "2  저는 봄을 가장 좋아해요. 길거리에 예쁜 꽃도 많이 피잖아요. 따뜻하고 포근한 봄 ...   \n",
       "3  한 벌에 이십오만 원(250,000원)인데, 디자인이 너무 마음에 들어서, 빨간색이...   \n",
       "4  한국말 실력이 부족하지만, 제가 한국 생활에 적응하는 데에 많은 도움을 준 친구를 ...   \n",
       "\n",
       "                                    ReadingLabelText Question  ...  \\\n",
       "0  기차를 탈 때 기차표를 누구한테 보여 줘야 해요 아니면 타기 전에 무인 기계에 찍고...      NaN  ...   \n",
       "1  기차를 탈 때 기차표를 누구한테 보여 줘야 해요 아니면 타기 전에 무인 기계에 찍고...      NaN  ...   \n",
       "2  저는 봄을 가장 좋아해요 길거리에 예쁜 꽃도 많이 피잖아요 따뜻하고 포근한 봄 날씨...      NaN  ...   \n",
       "3  한 벌에 이십오만 원인데 디자인이 너무 마음에 들어서 빨간색이랑 주황색 분홍색까지 ...      NaN  ...   \n",
       "4  한국말 실력이 부족하지만 제가 한국 생활에 적응하는 데에 많은 도움을 준 친구를 위...      NaN  ...   \n",
       "\n",
       "  eduBackground country residencePeriod residenceCity  languageClass  \\\n",
       "0            대졸      JP           5년 이상         KR-26            일본어   \n",
       "1            대졸      JP           5년 이상         KR-11            일본어   \n",
       "2            고졸      JP     1년 이상 3년 미만         KR-11            일본어   \n",
       "3            대졸      JP     1년 이상 3년 미만         KR-11            일본어   \n",
       "4            고졸      JP           5년 이상         KR-11            일본어   \n",
       "\n",
       "  motherTongue selfAssessment topikGrade LearningPeriod learningSource  \n",
       "0          일본어              중      해당 없음             39             기타  \n",
       "1          일본어              상          6            180         인터넷 강의  \n",
       "2          일본어              중          5             84          영화/음악  \n",
       "3          일본어              중          5             18  학교 수업 (대학 포함)  \n",
       "4          일본어              중          5             16             학원  \n",
       "\n",
       "[5 rows x 25 columns]"
      ]
     },
     "execution_count": 6,
     "metadata": {},
     "output_type": "execute_result"
    }
   ],
   "source": [
    "df_list = [pd.read_csv(file, encoding='cp949') for file in original_path]\n",
    "merged_df = pd.concat(df_list, ignore_index=True)\n",
    "merged_df.head()"
   ]
  },
  {
   "cell_type": "code",
   "execution_count": 7,
   "id": "a69588c7",
   "metadata": {},
   "outputs": [],
   "source": [
    "merged_df.to_pickle('./data/train/labeling/marged_eval_test.pikl')"
   ]
  },
  {
   "cell_type": "code",
   "execution_count": 8,
   "id": "bb8d5a5e",
   "metadata": {},
   "outputs": [],
   "source": [
    "merged_df = pd.read_pickle('./data/train/labeling/marged_eval_test.pikl')"
   ]
  },
  {
   "cell_type": "code",
   "execution_count": 9,
   "id": "91a77495",
   "metadata": {},
   "outputs": [
    {
     "data": {
      "text/html": [
       "<div>\n",
       "<style scoped>\n",
       "    .dataframe tbody tr th:only-of-type {\n",
       "        vertical-align: middle;\n",
       "    }\n",
       "\n",
       "    .dataframe tbody tr th {\n",
       "        vertical-align: top;\n",
       "    }\n",
       "\n",
       "    .dataframe thead th {\n",
       "        text-align: right;\n",
       "    }\n",
       "</style>\n",
       "<table border=\"1\" class=\"dataframe\">\n",
       "  <thead>\n",
       "    <tr style=\"text-align: right;\">\n",
       "      <th></th>\n",
       "      <th>recordTime</th>\n",
       "      <th>birthYear</th>\n",
       "      <th>LearningPeriod</th>\n",
       "    </tr>\n",
       "  </thead>\n",
       "  <tbody>\n",
       "    <tr>\n",
       "      <th>count</th>\n",
       "      <td>73405.000000</td>\n",
       "      <td>73405.000000</td>\n",
       "      <td>73405.000000</td>\n",
       "    </tr>\n",
       "    <tr>\n",
       "      <th>mean</th>\n",
       "      <td>13.270484</td>\n",
       "      <td>1989.823186</td>\n",
       "      <td>49.382917</td>\n",
       "    </tr>\n",
       "    <tr>\n",
       "      <th>std</th>\n",
       "      <td>4.647997</td>\n",
       "      <td>9.577481</td>\n",
       "      <td>43.637499</td>\n",
       "    </tr>\n",
       "    <tr>\n",
       "      <th>min</th>\n",
       "      <td>1.380000</td>\n",
       "      <td>1955.000000</td>\n",
       "      <td>1.000000</td>\n",
       "    </tr>\n",
       "    <tr>\n",
       "      <th>25%</th>\n",
       "      <td>10.680000</td>\n",
       "      <td>1985.000000</td>\n",
       "      <td>24.000000</td>\n",
       "    </tr>\n",
       "    <tr>\n",
       "      <th>50%</th>\n",
       "      <td>12.345000</td>\n",
       "      <td>1993.000000</td>\n",
       "      <td>36.000000</td>\n",
       "    </tr>\n",
       "    <tr>\n",
       "      <th>75%</th>\n",
       "      <td>14.648000</td>\n",
       "      <td>1997.000000</td>\n",
       "      <td>60.000000</td>\n",
       "    </tr>\n",
       "    <tr>\n",
       "      <th>max</th>\n",
       "      <td>194.280000</td>\n",
       "      <td>2005.000000</td>\n",
       "      <td>360.000000</td>\n",
       "    </tr>\n",
       "  </tbody>\n",
       "</table>\n",
       "</div>"
      ],
      "text/plain": [
       "         recordTime     birthYear  LearningPeriod\n",
       "count  73405.000000  73405.000000    73405.000000\n",
       "mean      13.270484   1989.823186       49.382917\n",
       "std        4.647997      9.577481       43.637499\n",
       "min        1.380000   1955.000000        1.000000\n",
       "25%       10.680000   1985.000000       24.000000\n",
       "50%       12.345000   1993.000000       36.000000\n",
       "75%       14.648000   1997.000000       60.000000\n",
       "max      194.280000   2005.000000      360.000000"
      ]
     },
     "execution_count": 9,
     "metadata": {},
     "output_type": "execute_result"
    }
   ],
   "source": [
    "merged_df.describe()"
   ]
  },
  {
   "cell_type": "code",
   "execution_count": 10,
   "id": "7576c8b3",
   "metadata": {},
   "outputs": [],
   "source": [
    "min_sec = 8\n",
    "max_sec = 14\n",
    "filtered_data = merged_df[(merged_df['recordTime'] >= min_sec) & (merged_df['recordTime'] <= max_sec)]\n",
    "filtered_data = filtered_data.reset_index(drop=True)"
   ]
  },
  {
   "cell_type": "code",
   "execution_count": 11,
   "id": "962847fe",
   "metadata": {},
   "outputs": [
    {
     "name": "stdout",
     "output_type": "stream",
     "text": [
      "<class 'pandas.core.frame.DataFrame'>\n",
      "RangeIndex: 49349 entries, 0 to 49348\n",
      "Data columns (total 25 columns):\n",
      " #   Column            Non-Null Count  Dtype  \n",
      "---  ------            --------------  -----  \n",
      " 0   fileName          49349 non-null  object \n",
      " 1   speakerID         49349 non-null  object \n",
      " 2   sentenceID        49349 non-null  object \n",
      " 3   recordUnit        49349 non-null  object \n",
      " 4   recordQuality     49349 non-null  object \n",
      " 5   recordDate        49349 non-null  object \n",
      " 6   recordTime        49349 non-null  float64\n",
      " 7   Reading           43205 non-null  object \n",
      " 8   ReadingLabelText  43205 non-null  object \n",
      " 9   Question          6144 non-null   object \n",
      " 10  AnswerLabelText   6144 non-null   object \n",
      " 11  SentenceSpeechLV  49349 non-null  object \n",
      " 12  SpeakerID         49349 non-null  object \n",
      " 13  gender            49349 non-null  object \n",
      " 14  birthYear         49349 non-null  int64  \n",
      " 15  eduBackground     49349 non-null  object \n",
      " 16  country           49349 non-null  object \n",
      " 17  residencePeriod   49349 non-null  object \n",
      " 18  residenceCity     49349 non-null  object \n",
      " 19  languageClass     49349 non-null  object \n",
      " 20  motherTongue      49349 non-null  object \n",
      " 21  selfAssessment    49349 non-null  object \n",
      " 22  topikGrade        49349 non-null  object \n",
      " 23  LearningPeriod    49349 non-null  int64  \n",
      " 24  learningSource    49349 non-null  object \n",
      "dtypes: float64(1), int64(2), object(22)\n",
      "memory usage: 9.4+ MB\n"
     ]
    }
   ],
   "source": [
    "filtered_data.info()"
   ]
  },
  {
   "cell_type": "code",
   "execution_count": 12,
   "id": "51b9bd5a",
   "metadata": {},
   "outputs": [
    {
     "data": {
      "text/plain": [
       "Index(['fileName', 'speakerID', 'sentenceID', 'recordUnit', 'recordQuality',\n",
       "       'recordDate', 'recordTime', 'Reading', 'ReadingLabelText', 'Question',\n",
       "       'AnswerLabelText', 'SentenceSpeechLV', 'SpeakerID', 'gender',\n",
       "       'birthYear', 'eduBackground', 'country', 'residencePeriod',\n",
       "       'residenceCity', 'languageClass', 'motherTongue', 'selfAssessment',\n",
       "       'topikGrade', 'LearningPeriod', 'learningSource'],\n",
       "      dtype='object')"
      ]
     },
     "execution_count": 12,
     "metadata": {},
     "output_type": "execute_result"
    }
   ],
   "source": [
    "filtered_data.columns"
   ]
  },
  {
   "cell_type": "code",
   "execution_count": 13,
   "id": "0cdd1c76",
   "metadata": {},
   "outputs": [],
   "source": [
    "import glob\n",
    "import soundfile as sf\n",
    "from tqdm import tqdm\n",
    "import re"
   ]
  },
  {
   "cell_type": "code",
   "execution_count": 17,
   "id": "074929eb",
   "metadata": {},
   "outputs": [],
   "source": [
    "def process_row(row):\n",
    "    file_name = row['fileName']\n",
    "    reading = row['ReadingLabelText']\n",
    "    answer = row['AnswerLabelText']\n",
    "    \n",
    "    # 오디오 파일 찾기\n",
    "    audio_files = glob.glob(f'./data/validation/source/*/*/{file_name}')\n",
    "    if not audio_files:\n",
    "        return None  # 파일 없음\n",
    "\n",
    "    audio_path = audio_files[0]\n",
    "    \n",
    "    # 오디오 파일이 정상인지 확인\n",
    "    try:\n",
    "        with sf.SoundFile(audio_path) as f:\n",
    "            _ = f.frames\n",
    "    except RuntimeError:\n",
    "        return None  # 손상된 오디오\n",
    "\n",
    "    # 텍스트 결정\n",
    "    transcript = answer if pd.isna(reading) else reading\n",
    "    \n",
    "    pattern = r\"[^가-힣a-zA-Z0-9\\s?!\\.]\"\n",
    "    cleaned_transcript = re.sub(pattern, \"\", transcript)\n",
    "    \n",
    "    return (audio_path, cleaned_transcript)"
   ]
  },
  {
   "cell_type": "code",
   "execution_count": 18,
   "id": "340c7d38",
   "metadata": {},
   "outputs": [
    {
     "name": "stderr",
     "output_type": "stream",
     "text": [
      "100%|██████████| 49349/49349 [00:25<00:00, 1967.12it/s]\n"
     ]
    }
   ],
   "source": [
    "result = []\n",
    "for i in tqdm(range(len(filtered_data))):\n",
    "    r = process_row(filtered_data.iloc[i,:])\n",
    "    if r is None: continue\n",
    "    result.append((i, r[0], r[1]))"
   ]
  },
  {
   "cell_type": "code",
   "execution_count": 19,
   "id": "bf989624",
   "metadata": {},
   "outputs": [
    {
     "data": {
      "text/plain": [
       "(0,\n",
       " './data/validation/source/japan/general/JP16RC144_JP0103_20210803.wav',\n",
       " '기차를 탈 때 기차표를 누구한테 보여 줘야 해요 아니면 타기 전에 무인 기계에 찍고 타나요')"
      ]
     },
     "execution_count": 19,
     "metadata": {},
     "output_type": "execute_result"
    }
   ],
   "source": [
    "result[0]"
   ]
  },
  {
   "cell_type": "code",
   "execution_count": 20,
   "id": "402c8765",
   "metadata": {},
   "outputs": [],
   "source": [
    "filtered_data = filtered_data.iloc[[i[0] for i in result], :]"
   ]
  },
  {
   "cell_type": "code",
   "execution_count": 21,
   "id": "765e8526",
   "metadata": {},
   "outputs": [
    {
     "data": {
      "text/plain": [
       "(49349, 25)"
      ]
     },
     "execution_count": 21,
     "metadata": {},
     "output_type": "execute_result"
    }
   ],
   "source": [
    "filtered_data = filtered_data.reset_index(drop=True)\n",
    "filtered_data.shape"
   ]
  },
  {
   "cell_type": "code",
   "execution_count": 22,
   "id": "a7baef96",
   "metadata": {},
   "outputs": [
    {
     "data": {
      "text/plain": [
       "(49349, 27)"
      ]
     },
     "execution_count": 22,
     "metadata": {},
     "output_type": "execute_result"
    }
   ],
   "source": [
    "filtered_data['fileName'] = [i[1] for i in result]\n",
    "filtered_data['type'] = [i[1].split('/')[5] for i in result]\n",
    "filtered_data['text'] = [i[2] for i in result]\n",
    "filtered_data.shape"
   ]
  },
  {
   "cell_type": "code",
   "execution_count": 23,
   "id": "7b5645ba",
   "metadata": {},
   "outputs": [],
   "source": [
    "filtered_data.to_pickle('./data/train/labeling/filtered_val_test.pikl')"
   ]
  },
  {
   "cell_type": "code",
   "execution_count": 24,
   "id": "d0e0df2a",
   "metadata": {},
   "outputs": [
    {
     "data": {
      "text/html": [
       "<div>\n",
       "<style scoped>\n",
       "    .dataframe tbody tr th:only-of-type {\n",
       "        vertical-align: middle;\n",
       "    }\n",
       "\n",
       "    .dataframe tbody tr th {\n",
       "        vertical-align: top;\n",
       "    }\n",
       "\n",
       "    .dataframe thead th {\n",
       "        text-align: right;\n",
       "    }\n",
       "</style>\n",
       "<table border=\"1\" class=\"dataframe\">\n",
       "  <thead>\n",
       "    <tr style=\"text-align: right;\">\n",
       "      <th>type</th>\n",
       "      <th>culture1</th>\n",
       "      <th>culture2</th>\n",
       "      <th>general</th>\n",
       "      <th>life1</th>\n",
       "      <th>life2</th>\n",
       "    </tr>\n",
       "    <tr>\n",
       "      <th>languageClass</th>\n",
       "      <th></th>\n",
       "      <th></th>\n",
       "      <th></th>\n",
       "      <th></th>\n",
       "      <th></th>\n",
       "    </tr>\n",
       "  </thead>\n",
       "  <tbody>\n",
       "    <tr>\n",
       "      <th>베트남어</th>\n",
       "      <td>2398</td>\n",
       "      <td>1776</td>\n",
       "      <td>2658</td>\n",
       "      <td>2371</td>\n",
       "      <td>2141</td>\n",
       "    </tr>\n",
       "    <tr>\n",
       "      <th>영어</th>\n",
       "      <td>198</td>\n",
       "      <td>118</td>\n",
       "      <td>1062</td>\n",
       "      <td>224</td>\n",
       "      <td>262</td>\n",
       "    </tr>\n",
       "    <tr>\n",
       "      <th>일본어</th>\n",
       "      <td>3476</td>\n",
       "      <td>3173</td>\n",
       "      <td>3241</td>\n",
       "      <td>3087</td>\n",
       "      <td>3004</td>\n",
       "    </tr>\n",
       "    <tr>\n",
       "      <th>중국어</th>\n",
       "      <td>4294</td>\n",
       "      <td>3302</td>\n",
       "      <td>4824</td>\n",
       "      <td>4154</td>\n",
       "      <td>3586</td>\n",
       "    </tr>\n",
       "  </tbody>\n",
       "</table>\n",
       "</div>"
      ],
      "text/plain": [
       "type           culture1  culture2  general  life1  life2\n",
       "languageClass                                           \n",
       "베트남어               2398      1776     2658   2371   2141\n",
       "영어                  198       118     1062    224    262\n",
       "일본어                3476      3173     3241   3087   3004\n",
       "중국어                4294      3302     4824   4154   3586"
      ]
     },
     "execution_count": 24,
     "metadata": {},
     "output_type": "execute_result"
    }
   ],
   "source": [
    "pd.crosstab(filtered_data['languageClass'], filtered_data['type'])"
   ]
  },
  {
   "cell_type": "code",
   "execution_count": 27,
   "id": "a9d94e3f",
   "metadata": {},
   "outputs": [
    {
     "data": {
      "text/plain": [
       "languageClass\n",
       "중국어     20160\n",
       "일본어     15981\n",
       "베트남어    11344\n",
       "영어       1864\n",
       "Name: count, dtype: int64"
      ]
     },
     "execution_count": 27,
     "metadata": {},
     "output_type": "execute_result"
    }
   ],
   "source": [
    "filtered_data['languageClass'].value_counts()"
   ]
  },
  {
   "cell_type": "code",
   "execution_count": 40,
   "id": "09ac844f",
   "metadata": {},
   "outputs": [
    {
     "data": {
      "text/plain": [
       "(16746, 27)"
      ]
     },
     "execution_count": 40,
     "metadata": {},
     "output_type": "execute_result"
    }
   ],
   "source": [
    "balanced_df = []\n",
    "balanced_df.append(filtered_data[(filtered_data['type'] != 'culture2') & (filtered_data['languageClass'] == '베트남어')].sample(5000, random_state=42))\n",
    "balanced_df.append(filtered_data[(filtered_data['type'] != 'culture2') & (filtered_data['languageClass'] == '영어')].sample(1746, random_state=42))\n",
    "balanced_df.append(filtered_data[(filtered_data['type'] != 'culture2') & (filtered_data['languageClass'] == '일본어')].sample(5000, random_state=42))\n",
    "balanced_df.append(filtered_data[(filtered_data['type'] != 'culture2') & (filtered_data['languageClass'] == '중국어')].sample(5000, random_state=42))\n",
    "\n",
    "balanced_df = pd.concat(balanced_df, ignore_index=True)\n",
    "balanced_df.shape"
   ]
  },
  {
   "cell_type": "code",
   "execution_count": 41,
   "id": "8928360c",
   "metadata": {},
   "outputs": [
    {
     "data": {
      "text/html": [
       "<div>\n",
       "<style scoped>\n",
       "    .dataframe tbody tr th:only-of-type {\n",
       "        vertical-align: middle;\n",
       "    }\n",
       "\n",
       "    .dataframe tbody tr th {\n",
       "        vertical-align: top;\n",
       "    }\n",
       "\n",
       "    .dataframe thead th {\n",
       "        text-align: right;\n",
       "    }\n",
       "</style>\n",
       "<table border=\"1\" class=\"dataframe\">\n",
       "  <thead>\n",
       "    <tr style=\"text-align: right;\">\n",
       "      <th>type</th>\n",
       "      <th>culture1</th>\n",
       "      <th>general</th>\n",
       "      <th>life1</th>\n",
       "      <th>life2</th>\n",
       "    </tr>\n",
       "    <tr>\n",
       "      <th>languageClass</th>\n",
       "      <th></th>\n",
       "      <th></th>\n",
       "      <th></th>\n",
       "      <th></th>\n",
       "    </tr>\n",
       "  </thead>\n",
       "  <tbody>\n",
       "    <tr>\n",
       "      <th>베트남어</th>\n",
       "      <td>1270</td>\n",
       "      <td>1411</td>\n",
       "      <td>1234</td>\n",
       "      <td>1085</td>\n",
       "    </tr>\n",
       "    <tr>\n",
       "      <th>영어</th>\n",
       "      <td>198</td>\n",
       "      <td>1062</td>\n",
       "      <td>224</td>\n",
       "      <td>262</td>\n",
       "    </tr>\n",
       "    <tr>\n",
       "      <th>일본어</th>\n",
       "      <td>1355</td>\n",
       "      <td>1279</td>\n",
       "      <td>1192</td>\n",
       "      <td>1174</td>\n",
       "    </tr>\n",
       "    <tr>\n",
       "      <th>중국어</th>\n",
       "      <td>1298</td>\n",
       "      <td>1434</td>\n",
       "      <td>1238</td>\n",
       "      <td>1030</td>\n",
       "    </tr>\n",
       "  </tbody>\n",
       "</table>\n",
       "</div>"
      ],
      "text/plain": [
       "type           culture1  general  life1  life2\n",
       "languageClass                                 \n",
       "베트남어               1270     1411   1234   1085\n",
       "영어                  198     1062    224    262\n",
       "일본어                1355     1279   1192   1174\n",
       "중국어                1298     1434   1238   1030"
      ]
     },
     "execution_count": 41,
     "metadata": {},
     "output_type": "execute_result"
    }
   ],
   "source": [
    "pd.crosstab(balanced_df['languageClass'], balanced_df['type'])"
   ]
  },
  {
   "cell_type": "code",
   "execution_count": 42,
   "id": "ca6503b6",
   "metadata": {},
   "outputs": [],
   "source": [
    "balanced_df.to_pickle('./data/train/labeling/filtered_balanced_val_test.pikl')"
   ]
  }
 ],
 "metadata": {
  "kernelspec": {
   "display_name": "base",
   "language": "python",
   "name": "python3"
  },
  "language_info": {
   "codemirror_mode": {
    "name": "ipython",
    "version": 3
   },
   "file_extension": ".py",
   "mimetype": "text/x-python",
   "name": "python",
   "nbconvert_exporter": "python",
   "pygments_lexer": "ipython3",
   "version": "3.12.4"
  }
 },
 "nbformat": 4,
 "nbformat_minor": 5
}
